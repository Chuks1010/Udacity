{
 "cells": [
  {
   "cell_type": "markdown",
   "id": "ea33a1ee",
   "metadata": {},
   "source": [
    "## Insights"
   ]
  },
  {
   "cell_type": "markdown",
   "id": "58146989",
   "metadata": {},
   "source": [
    "The purpose of any analysis is to derive some information after analysis and interpretation. In this analysis, several insights were derived from the data that could assist in making informed business decisions. Some of the insights are:\n",
    "1.\tThe period under review is from 15th November 2015 to 1st August 2017 which is 626 days. We can see that there were more samples in the first 2 - 3 months compared to other months. It’s a negative correlation as the number of records decreased with increasing year.\n",
    "2.\tThree sources of data were utilized  and the source with the most users are iPhone users with 2031 record.\n",
    "\n",
    "\n",
    "3.\tRatings range from 0 to 7.5 and the most rating given, was 1.2 with 477 ratings\n",
    "\n",
    "4.\tThe range of image numbers is from 1 to 4 with 1 being the most occurrence with 1777 records.\n",
    "5.\tThe average favorite count is 8556 while the average retweet count is 2976\n",
    "6.\t640 records are above the average favorite count while 1433 is less than the average favorite count\n",
    "7.\t594 records are greater than the average retweet count while 1479 is less than the average\n",
    "8.\tThe maximum retweet count is 79515 with tweet id 744234799360020481\n",
    "9.\tThe minimum favorite count is 132810 with tweet id 822872901745569793\n",
    "\n",
    "Unfortunately, there are no names in the name column of the maximum favorite count and retweet count. Furthermore, there are a number of rows with no names, This can limit our analysis as well as our decision-making and as such more information will be required to further dig into the dataset and provide better analysis for informed decision making.\n"
   ]
  },
  {
   "cell_type": "code",
   "execution_count": null,
   "id": "d081b415",
   "metadata": {},
   "outputs": [],
   "source": []
  }
 ],
 "metadata": {
  "kernelspec": {
   "display_name": "Python 3 (ipykernel)",
   "language": "python",
   "name": "python3"
  },
  "language_info": {
   "codemirror_mode": {
    "name": "ipython",
    "version": 3
   },
   "file_extension": ".py",
   "mimetype": "text/x-python",
   "name": "python",
   "nbconvert_exporter": "python",
   "pygments_lexer": "ipython3",
   "version": "3.9.7"
  }
 },
 "nbformat": 4,
 "nbformat_minor": 5
}
