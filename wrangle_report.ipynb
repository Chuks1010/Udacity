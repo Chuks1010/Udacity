{
 "cells": [
  {
   "cell_type": "markdown",
   "id": "da99dccd",
   "metadata": {},
   "source": [
    "## Reporting: wragle_report\n",
    "* Create a 300-600 word written report called \"wrangle_report.pdf\" or \"wrangle_report.html\" that briefly describes your wrangling efforts. This is to be framed as an internal document."
   ]
  },
  {
   "cell_type": "markdown",
   "id": "2145a606",
   "metadata": {},
   "source": [
    "### Gathering the Data "
   ]
  },
  {
   "cell_type": "markdown",
   "id": "b160b4b4",
   "metadata": {},
   "source": [
    "Gathering the Data\n",
    "This project involved gathering 3 datasets from 3 different sources. One of the datasets was downloaded manually, the second was programmatically downloaded using the request library and the third was accessed using the “with” function. While the first 2 datasets were read in with the pd.read() function, a dataframe was created from the third dataset"
   ]
  },
  {
   "cell_type": "markdown",
   "id": "7f2d8b0b",
   "metadata": {},
   "source": [
    "### Assessing the Data"
   ]
  },
  {
   "cell_type": "markdown",
   "id": "b1465e25",
   "metadata": {},
   "source": [
    "Several functions were used to assess the 3 datasets for quality and tidiness issues. Some of the function are df.head(), df.info(), df.describe(), df.isnull().sum(), duplicated(), df.shape etc. In the course of the investigation, a number of issues were identified with the datasets, and they are listed below:"
   ]
  },
  {
   "cell_type": "markdown",
   "id": "2ec9b446",
   "metadata": {},
   "source": [
    "### Quality Issues"
   ]
  },
  {
   "cell_type": "markdown",
   "id": "b1a018d6",
   "metadata": {},
   "source": [
    "1.\tThe in_reply_to_status_id column has 2278 null (nan) values\n",
    "2.\tThe in_reply_to_user_id column has 2278 null (nan) values\n",
    "3.\tThe timestamp column is of dtype object as against time\n",
    "4.\tThe retweeted_status_timestamp column is of dtype object as against time\n",
    "5.\tThe retweeted_status_id column has 2278 null (nan) values\n",
    "6.\tThe retweeted_status_user_id column has 2278 null (nan) values\n",
    "7.\tThe retweeted_status_timestamp column has 2278 null (nan) values\n",
    "8.\tThe expanded_urls column has 2278 null (nan) values"
   ]
  },
  {
   "cell_type": "markdown",
   "id": "91f67e90",
   "metadata": {},
   "source": [
    "### Tidiness Issues"
   ]
  },
  {
   "cell_type": "markdown",
   "id": "304d3f04",
   "metadata": {},
   "source": [
    "1.\tSome of the observation in 'twitter_archive' dataset does not form a row\n",
    "2.\tSome of the variables in 'twitter_archive' datset does not form a column example of such columns are doggo, retweeted_status_user_id, retweeted_status_id, etc\n",
    "3.\tRenamed the id column in the 'tweet' dataset to tweet_id\n"
   ]
  },
  {
   "cell_type": "markdown",
   "id": "8de53950",
   "metadata": {},
   "source": [
    "To ensure a fit-for-purpose analysis the datasets went through some cleaning processes such as:\n",
    "\n",
    "\n",
    "1.\tConverted the time stamp columns to DateTime object\n",
    "2.\tDropped or removed entire rows with null values using the dropna function\n",
    "3.\tDropped or removed columns with 2278 null values\n",
    "4.\tRenamed the id column in the 'tweet' dataset to tweet_id using the rename function\n",
    "5.\tCreated a new feature called Ratings\n",
    "6.\tDeleted rows with erroneous ratings\n",
    "7.\tDeleted columns with similar data using the drop function\n",
    "\n",
    "After the cleaning processes the data was saved.\n"
   ]
  },
  {
   "cell_type": "code",
   "execution_count": null,
   "id": "88c0eda3",
   "metadata": {},
   "outputs": [],
   "source": []
  }
 ],
 "metadata": {
  "kernelspec": {
   "display_name": "Python 3 (ipykernel)",
   "language": "python",
   "name": "python3"
  },
  "language_info": {
   "codemirror_mode": {
    "name": "ipython",
    "version": 3
   },
   "file_extension": ".py",
   "mimetype": "text/x-python",
   "name": "python",
   "nbconvert_exporter": "python",
   "pygments_lexer": "ipython3",
   "version": "3.9.7"
  }
 },
 "nbformat": 4,
 "nbformat_minor": 5
}
