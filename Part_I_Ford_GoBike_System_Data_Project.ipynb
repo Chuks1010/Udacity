{
 "cells": [
  {
   "cell_type": "markdown",
   "metadata": {},
   "source": [
    "# Part I - Ford GoBike System Data Project\n",
    "## by Ignatius Ebigwai\n",
    "\n",
    "## Introduction\n",
    "> The dataset used in the project is a public dataset. It includes information about individual rides made\n",
    "in a bike-sharing system covering the greater San Francisco Bay area. It can be found at https://www.google.com/url?q=https://www.fordgobike.com/system-data&sa=D&ust=1554484977399000 and has feature such as bike_id, start and end station, start and end station Id, start and end coordinates etc.\n",
    "\n",
    "\n",
    "\n",
    "## Preliminary Wrangling\n"
   ]
  },
  {
   "cell_type": "code",
   "execution_count": 1,
   "metadata": {},
   "outputs": [],
   "source": [
    "# import all packages for the project\n",
    "import numpy as np\n",
    "import pandas as pd\n",
    "import matplotlib.pyplot as plt\n",
    "import seaborn as sb\n",
    "import geopy.distance\n",
    "import math\n",
    "from datetime import datetime, date\n",
    "%matplotlib inline"
   ]
  },
  {
   "cell_type": "code",
   "execution_count": 2,
   "metadata": {},
   "outputs": [
    {
     "data": {
      "text/html": [
       "<div>\n",
       "<style scoped>\n",
       "    .dataframe tbody tr th:only-of-type {\n",
       "        vertical-align: middle;\n",
       "    }\n",
       "\n",
       "    .dataframe tbody tr th {\n",
       "        vertical-align: top;\n",
       "    }\n",
       "\n",
       "    .dataframe thead th {\n",
       "        text-align: right;\n",
       "    }\n",
       "</style>\n",
       "<table border=\"1\" class=\"dataframe\">\n",
       "  <thead>\n",
       "    <tr style=\"text-align: right;\">\n",
       "      <th></th>\n",
       "      <th>duration_sec</th>\n",
       "      <th>start_time</th>\n",
       "      <th>end_time</th>\n",
       "      <th>start_station_id</th>\n",
       "      <th>start_station_name</th>\n",
       "      <th>start_station_latitude</th>\n",
       "      <th>start_station_longitude</th>\n",
       "      <th>end_station_id</th>\n",
       "      <th>end_station_name</th>\n",
       "      <th>end_station_latitude</th>\n",
       "      <th>end_station_longitude</th>\n",
       "      <th>bike_id</th>\n",
       "      <th>user_type</th>\n",
       "      <th>member_birth_year</th>\n",
       "      <th>member_gender</th>\n",
       "      <th>bike_share_for_all_trip</th>\n",
       "    </tr>\n",
       "  </thead>\n",
       "  <tbody>\n",
       "    <tr>\n",
       "      <th>0</th>\n",
       "      <td>52185</td>\n",
       "      <td>2019-02-28 17:32:10.1450</td>\n",
       "      <td>2019-03-01 08:01:55.9750</td>\n",
       "      <td>21.0</td>\n",
       "      <td>Montgomery St BART Station (Market St at 2nd St)</td>\n",
       "      <td>37.789625</td>\n",
       "      <td>-122.400811</td>\n",
       "      <td>13.0</td>\n",
       "      <td>Commercial St at Montgomery St</td>\n",
       "      <td>37.794231</td>\n",
       "      <td>-122.402923</td>\n",
       "      <td>4902</td>\n",
       "      <td>Customer</td>\n",
       "      <td>1984.0</td>\n",
       "      <td>Male</td>\n",
       "      <td>No</td>\n",
       "    </tr>\n",
       "    <tr>\n",
       "      <th>1</th>\n",
       "      <td>42521</td>\n",
       "      <td>2019-02-28 18:53:21.7890</td>\n",
       "      <td>2019-03-01 06:42:03.0560</td>\n",
       "      <td>23.0</td>\n",
       "      <td>The Embarcadero at Steuart St</td>\n",
       "      <td>37.791464</td>\n",
       "      <td>-122.391034</td>\n",
       "      <td>81.0</td>\n",
       "      <td>Berry St at 4th St</td>\n",
       "      <td>37.775880</td>\n",
       "      <td>-122.393170</td>\n",
       "      <td>2535</td>\n",
       "      <td>Customer</td>\n",
       "      <td>NaN</td>\n",
       "      <td>NaN</td>\n",
       "      <td>No</td>\n",
       "    </tr>\n",
       "    <tr>\n",
       "      <th>2</th>\n",
       "      <td>61854</td>\n",
       "      <td>2019-02-28 12:13:13.2180</td>\n",
       "      <td>2019-03-01 05:24:08.1460</td>\n",
       "      <td>86.0</td>\n",
       "      <td>Market St at Dolores St</td>\n",
       "      <td>37.769305</td>\n",
       "      <td>-122.426826</td>\n",
       "      <td>3.0</td>\n",
       "      <td>Powell St BART Station (Market St at 4th St)</td>\n",
       "      <td>37.786375</td>\n",
       "      <td>-122.404904</td>\n",
       "      <td>5905</td>\n",
       "      <td>Customer</td>\n",
       "      <td>1972.0</td>\n",
       "      <td>Male</td>\n",
       "      <td>No</td>\n",
       "    </tr>\n",
       "  </tbody>\n",
       "</table>\n",
       "</div>"
      ],
      "text/plain": [
       "   duration_sec                start_time                  end_time  \\\n",
       "0         52185  2019-02-28 17:32:10.1450  2019-03-01 08:01:55.9750   \n",
       "1         42521  2019-02-28 18:53:21.7890  2019-03-01 06:42:03.0560   \n",
       "2         61854  2019-02-28 12:13:13.2180  2019-03-01 05:24:08.1460   \n",
       "\n",
       "   start_station_id                                start_station_name  \\\n",
       "0              21.0  Montgomery St BART Station (Market St at 2nd St)   \n",
       "1              23.0                     The Embarcadero at Steuart St   \n",
       "2              86.0                           Market St at Dolores St   \n",
       "\n",
       "   start_station_latitude  start_station_longitude  end_station_id  \\\n",
       "0               37.789625              -122.400811            13.0   \n",
       "1               37.791464              -122.391034            81.0   \n",
       "2               37.769305              -122.426826             3.0   \n",
       "\n",
       "                               end_station_name  end_station_latitude  \\\n",
       "0                Commercial St at Montgomery St             37.794231   \n",
       "1                            Berry St at 4th St             37.775880   \n",
       "2  Powell St BART Station (Market St at 4th St)             37.786375   \n",
       "\n",
       "   end_station_longitude  bike_id user_type  member_birth_year member_gender  \\\n",
       "0            -122.402923     4902  Customer             1984.0          Male   \n",
       "1            -122.393170     2535  Customer                NaN           NaN   \n",
       "2            -122.404904     5905  Customer             1972.0          Male   \n",
       "\n",
       "  bike_share_for_all_trip  \n",
       "0                      No  \n",
       "1                      No  \n",
       "2                      No  "
      ]
     },
     "execution_count": 2,
     "metadata": {},
     "output_type": "execute_result"
    }
   ],
   "source": [
    "# reading the data into pandas and displaying the first 3 rows\n",
    "bike_df = pd.read_csv(r'C:\\Users\\ignatius.ebigwai\\Documents\\Personal\\Udacity\\Project 3\\Project Template\\201902-fordgobike-tripdata.csv')\n",
    "bike_df.head(3)"
   ]
  },
  {
   "cell_type": "code",
   "execution_count": 3,
   "metadata": {},
   "outputs": [
    {
     "data": {
      "text/plain": [
       "(183412, 16)"
      ]
     },
     "execution_count": 3,
     "metadata": {},
     "output_type": "execute_result"
    }
   ],
   "source": [
    "# dimension of the dataset\n",
    "bike_df.shape"
   ]
  },
  {
   "cell_type": "code",
   "execution_count": 4,
   "metadata": {},
   "outputs": [
    {
     "name": "stdout",
     "output_type": "stream",
     "text": [
      "<class 'pandas.core.frame.DataFrame'>\n",
      "RangeIndex: 183412 entries, 0 to 183411\n",
      "Data columns (total 16 columns):\n",
      " #   Column                   Non-Null Count   Dtype  \n",
      "---  ------                   --------------   -----  \n",
      " 0   duration_sec             183412 non-null  int64  \n",
      " 1   start_time               183412 non-null  object \n",
      " 2   end_time                 183412 non-null  object \n",
      " 3   start_station_id         183215 non-null  float64\n",
      " 4   start_station_name       183215 non-null  object \n",
      " 5   start_station_latitude   183412 non-null  float64\n",
      " 6   start_station_longitude  183412 non-null  float64\n",
      " 7   end_station_id           183215 non-null  float64\n",
      " 8   end_station_name         183215 non-null  object \n",
      " 9   end_station_latitude     183412 non-null  float64\n",
      " 10  end_station_longitude    183412 non-null  float64\n",
      " 11  bike_id                  183412 non-null  int64  \n",
      " 12  user_type                183412 non-null  object \n",
      " 13  member_birth_year        175147 non-null  float64\n",
      " 14  member_gender            175147 non-null  object \n",
      " 15  bike_share_for_all_trip  183412 non-null  object \n",
      "dtypes: float64(7), int64(2), object(7)\n",
      "memory usage: 22.4+ MB\n"
     ]
    }
   ],
   "source": [
    "# structure of the dataset\n",
    "bike_df.info()"
   ]
  },
  {
   "cell_type": "code",
   "execution_count": 5,
   "metadata": {},
   "outputs": [
    {
     "data": {
      "text/plain": [
       "duration_sec                  0\n",
       "start_time                    0\n",
       "end_time                      0\n",
       "start_station_id            197\n",
       "start_station_name          197\n",
       "start_station_latitude        0\n",
       "start_station_longitude       0\n",
       "end_station_id              197\n",
       "end_station_name            197\n",
       "end_station_latitude          0\n",
       "end_station_longitude         0\n",
       "bike_id                       0\n",
       "user_type                     0\n",
       "member_birth_year          8265\n",
       "member_gender              8265\n",
       "bike_share_for_all_trip       0\n",
       "dtype: int64"
      ]
     },
     "execution_count": 5,
     "metadata": {},
     "output_type": "execute_result"
    }
   ],
   "source": [
    "# checking for total number of missing values per column in the dataset\n",
    "bike_df.isnull().sum()"
   ]
  },
  {
   "cell_type": "code",
   "execution_count": 6,
   "metadata": {},
   "outputs": [
    {
     "data": {
      "image/png": "[encoded data removed]",
      "text/plain": [
       "<Figure size 432x288 with 1 Axes>"
      ]
     },
     "metadata": {
      "needs_background": "light"
     },
     "output_type": "display_data"
    }
   ],
   "source": [
    "# plot of missing data\n",
    "bike_df.isnull().sum().plot(kind='bar')\n",
    "plt.xlabel('Columns')\n",
    "plt.ylabel('Number of Rows with Null Value')\n",
    "plt.title('Null Values');"
   ]
  },
  {
   "cell_type": "code",
   "execution_count": 7,
   "metadata": {},
   "outputs": [
    {
     "data": {
      "text/plain": [
       "0"
      ]
     },
     "execution_count": 7,
     "metadata": {},
     "output_type": "execute_result"
    }
   ],
   "source": [
    "# checking for duplicate records\n",
    "sum(bike_df.duplicated())"
   ]
  },
  {
   "cell_type": "code",
   "execution_count": 8,
   "metadata": {},
   "outputs": [
    {
     "data": {
      "image/png": "[encoded data removed]",
      "text/plain": [
       "<Figure size 432x288 with 1 Axes>"
      ]
     },
     "metadata": {
      "needs_background": "light"
     },
     "output_type": "display_data"
    }
   ],
   "source": [
    "# boxplot\n",
    "bike_df.boxplot(rot=90)\n",
    "plt.xlabel('Columns')\n",
    "plt.ylabel('Frequency')\n",
    "plt.title('Box Plot of the Dataset');"
   ]
  },
  {
   "cell_type": "markdown",
   "metadata": {},
   "source": [
    "We can see that our dataset has 183412 rows and 16 columns and missing/null values in 6 columns. Member birth year and member gender have the largeset number of missing values. The missing values are less than 5% of the records in our data set and as such can be dropped. \n",
    "\n",
    "There are no duplicates in the observations, hence every record is unique. Some of the column have inappropriate datatype such as start time, end time, start_station_id, end_station_id and member birth year. There are outliers in the duration_sec and bike_id columns. However it doesn't seem to be something we should worry about because the duraction of bike rides is expected to large and vary. Also the bike id is expected to vary as it could be any id the pool of registered ids \n"
   ]
  },
  {
   "cell_type": "markdown",
   "metadata": {},
   "source": [
    "##  Data Cleaning "
   ]
  },
  {
   "cell_type": "markdown",
   "metadata": {},
   "source": [
    "Before we start cleaning let us make a copy of the dataset"
   ]
  },
  {
   "cell_type": "code",
   "execution_count": 9,
   "metadata": {},
   "outputs": [],
   "source": [
    "bike = bike_df.copy()"
   ]
  },
  {
   "cell_type": "markdown",
   "metadata": {},
   "source": [
    "### Define\n",
    "\n",
    "\n",
    "Let us drop rows with null values"
   ]
  },
  {
   "cell_type": "markdown",
   "metadata": {},
   "source": [
    "###  Code"
   ]
  },
  {
   "cell_type": "code",
   "execution_count": 10,
   "metadata": {},
   "outputs": [],
   "source": [
    "# dropping null values\n",
    "bike.dropna(inplace=True)"
   ]
  },
  {
   "cell_type": "markdown",
   "metadata": {},
   "source": [
    "### Test"
   ]
  },
  {
   "cell_type": "code",
   "execution_count": 11,
   "metadata": {},
   "outputs": [
    {
     "data": {
      "text/plain": [
       "duration_sec               0\n",
       "start_time                 0\n",
       "end_time                   0\n",
       "start_station_id           0\n",
       "start_station_name         0\n",
       "start_station_latitude     0\n",
       "start_station_longitude    0\n",
       "end_station_id             0\n",
       "end_station_name           0\n",
       "end_station_latitude       0\n",
       "end_station_longitude      0\n",
       "bike_id                    0\n",
       "user_type                  0\n",
       "member_birth_year          0\n",
       "member_gender              0\n",
       "bike_share_for_all_trip    0\n",
       "dtype: int64"
      ]
     },
     "execution_count": 11,
     "metadata": {},
     "output_type": "execute_result"
    }
   ],
   "source": [
    "# checking for null values\n",
    "bike.isnull().sum()"
   ]
  },
  {
   "cell_type": "code",
   "execution_count": 12,
   "metadata": {},
   "outputs": [
    {
     "data": {
      "text/plain": [
       "(174952, 16)"
      ]
     },
     "execution_count": 12,
     "metadata": {},
     "output_type": "execute_result"
    }
   ],
   "source": [
    "# dimension of the data\n",
    "bike.shape"
   ]
  },
  {
   "cell_type": "markdown",
   "metadata": {},
   "source": [
    "### Define"
   ]
  },
  {
   "cell_type": "markdown",
   "metadata": {},
   "source": [
    "Let's convert the start time and end time columns to datetime"
   ]
  },
  {
   "cell_type": "markdown",
   "metadata": {},
   "source": [
    "### Code"
   ]
  },
  {
   "cell_type": "code",
   "execution_count": 13,
   "metadata": {},
   "outputs": [],
   "source": [
    "# converting columns in object dtype to datetime dtype\n",
    "bike['start_time'] = pd.to_datetime(bike['start_time'])\n",
    "bike['end_time'] = pd.to_datetime(bike['end_time'])"
   ]
  },
  {
   "cell_type": "markdown",
   "metadata": {},
   "source": [
    "### Test"
   ]
  },
  {
   "cell_type": "code",
   "execution_count": 14,
   "metadata": {},
   "outputs": [
    {
     "name": "stdout",
     "output_type": "stream",
     "text": [
      "<class 'pandas.core.frame.DataFrame'>\n",
      "Int64Index: 174952 entries, 0 to 183411\n",
      "Data columns (total 16 columns):\n",
      " #   Column                   Non-Null Count   Dtype         \n",
      "---  ------                   --------------   -----         \n",
      " 0   duration_sec             174952 non-null  int64         \n",
      " 1   start_time               174952 non-null  datetime64[ns]\n",
      " 2   end_time                 174952 non-null  datetime64[ns]\n",
      " 3   start_station_id         174952 non-null  float64       \n",
      " 4   start_station_name       174952 non-null  object        \n",
      " 5   start_station_latitude   174952 non-null  float64       \n",
      " 6   start_station_longitude  174952 non-null  float64       \n",
      " 7   end_station_id           174952 non-null  float64       \n",
      " 8   end_station_name         174952 non-null  object        \n",
      " 9   end_station_latitude     174952 non-null  float64       \n",
      " 10  end_station_longitude    174952 non-null  float64       \n",
      " 11  bike_id                  174952 non-null  int64         \n",
      " 12  user_type                174952 non-null  object        \n",
      " 13  member_birth_year        174952 non-null  float64       \n",
      " 14  member_gender            174952 non-null  object        \n",
      " 15  bike_share_for_all_trip  174952 non-null  object        \n",
      "dtypes: datetime64[ns](2), float64(7), int64(2), object(5)\n",
      "memory usage: 22.7+ MB\n"
     ]
    }
   ],
   "source": [
    "# structure of the dataset\n",
    "bike.info()"
   ]
  },
  {
   "cell_type": "markdown",
   "metadata": {},
   "source": [
    "### Define"
   ]
  },
  {
   "cell_type": "markdown",
   "metadata": {},
   "source": [
    "Let us convert membership_birth_year to int and create a new column named age"
   ]
  },
  {
   "cell_type": "markdown",
   "metadata": {},
   "source": [
    "### Code"
   ]
  },
  {
   "cell_type": "code",
   "execution_count": 15,
   "metadata": {},
   "outputs": [],
   "source": [
    "# converting member_birth_year to int64\n",
    "bike['member_birth_year'] = bike['member_birth_year'].astype(np.int64)"
   ]
  },
  {
   "cell_type": "code",
   "execution_count": 16,
   "metadata": {},
   "outputs": [],
   "source": [
    "# creating a new column age\n",
    "bike['age'] = 2022 - bike['member_birth_year']\n",
    "\n",
    "# converting the age column to int64\n",
    "bike['age'] = bike['age'].astype(np.int64)"
   ]
  },
  {
   "cell_type": "markdown",
   "metadata": {},
   "source": [
    "### Test"
   ]
  },
  {
   "cell_type": "code",
   "execution_count": 17,
   "metadata": {},
   "outputs": [
    {
     "data": {
      "text/html": [
       "<div>\n",
       "<style scoped>\n",
       "    .dataframe tbody tr th:only-of-type {\n",
       "        vertical-align: middle;\n",
       "    }\n",
       "\n",
       "    .dataframe tbody tr th {\n",
       "        vertical-align: top;\n",
       "    }\n",
       "\n",
       "    .dataframe thead th {\n",
       "        text-align: right;\n",
       "    }\n",
       "</style>\n",
       "<table border=\"1\" class=\"dataframe\">\n",
       "  <thead>\n",
       "    <tr style=\"text-align: right;\">\n",
       "      <th></th>\n",
       "      <th>duration_sec</th>\n",
       "      <th>start_time</th>\n",
       "      <th>end_time</th>\n",
       "      <th>start_station_id</th>\n",
       "      <th>start_station_name</th>\n",
       "      <th>start_station_latitude</th>\n",
       "      <th>start_station_longitude</th>\n",
       "      <th>end_station_id</th>\n",
       "      <th>end_station_name</th>\n",
       "      <th>end_station_latitude</th>\n",
       "      <th>end_station_longitude</th>\n",
       "      <th>bike_id</th>\n",
       "      <th>user_type</th>\n",
       "      <th>member_birth_year</th>\n",
       "      <th>member_gender</th>\n",
       "      <th>bike_share_for_all_trip</th>\n",
       "      <th>age</th>\n",
       "    </tr>\n",
       "  </thead>\n",
       "  <tbody>\n",
       "    <tr>\n",
       "      <th>0</th>\n",
       "      <td>52185</td>\n",
       "      <td>2019-02-28 17:32:10.145</td>\n",
       "      <td>2019-03-01 08:01:55.975</td>\n",
       "      <td>21.0</td>\n",
       "      <td>Montgomery St BART Station (Market St at 2nd St)</td>\n",
       "      <td>37.789625</td>\n",
       "      <td>-122.400811</td>\n",
       "      <td>13.0</td>\n",
       "      <td>Commercial St at Montgomery St</td>\n",
       "      <td>37.794231</td>\n",
       "      <td>-122.402923</td>\n",
       "      <td>4902</td>\n",
       "      <td>Customer</td>\n",
       "      <td>1984</td>\n",
       "      <td>Male</td>\n",
       "      <td>No</td>\n",
       "      <td>38</td>\n",
       "    </tr>\n",
       "    <tr>\n",
       "      <th>2</th>\n",
       "      <td>61854</td>\n",
       "      <td>2019-02-28 12:13:13.218</td>\n",
       "      <td>2019-03-01 05:24:08.146</td>\n",
       "      <td>86.0</td>\n",
       "      <td>Market St at Dolores St</td>\n",
       "      <td>37.769305</td>\n",
       "      <td>-122.426826</td>\n",
       "      <td>3.0</td>\n",
       "      <td>Powell St BART Station (Market St at 4th St)</td>\n",
       "      <td>37.786375</td>\n",
       "      <td>-122.404904</td>\n",
       "      <td>5905</td>\n",
       "      <td>Customer</td>\n",
       "      <td>1972</td>\n",
       "      <td>Male</td>\n",
       "      <td>No</td>\n",
       "      <td>50</td>\n",
       "    </tr>\n",
       "  </tbody>\n",
       "</table>\n",
       "</div>"
      ],
      "text/plain": [
       "   duration_sec              start_time                end_time  \\\n",
       "0         52185 2019-02-28 17:32:10.145 2019-03-01 08:01:55.975   \n",
       "2         61854 2019-02-28 12:13:13.218 2019-03-01 05:24:08.146   \n",
       "\n",
       "   start_station_id                                start_station_name  \\\n",
       "0              21.0  Montgomery St BART Station (Market St at 2nd St)   \n",
       "2              86.0                           Market St at Dolores St   \n",
       "\n",
       "   start_station_latitude  start_station_longitude  end_station_id  \\\n",
       "0               37.789625              -122.400811            13.0   \n",
       "2               37.769305              -122.426826             3.0   \n",
       "\n",
       "                               end_station_name  end_station_latitude  \\\n",
       "0                Commercial St at Montgomery St             37.794231   \n",
       "2  Powell St BART Station (Market St at 4th St)             37.786375   \n",
       "\n",
       "   end_station_longitude  bike_id user_type  member_birth_year member_gender  \\\n",
       "0            -122.402923     4902  Customer               1984          Male   \n",
       "2            -122.404904     5905  Customer               1972          Male   \n",
       "\n",
       "  bike_share_for_all_trip  age  \n",
       "0                      No   38  \n",
       "2                      No   50  "
      ]
     },
     "execution_count": 17,
     "metadata": {},
     "output_type": "execute_result"
    }
   ],
   "source": [
    "# displaying first 2 rows\n",
    "bike.head(2)"
   ]
  },
  {
   "cell_type": "code",
   "execution_count": 18,
   "metadata": {},
   "outputs": [
    {
     "name": "stdout",
     "output_type": "stream",
     "text": [
      "<class 'pandas.core.frame.DataFrame'>\n",
      "Int64Index: 174952 entries, 0 to 183411\n",
      "Data columns (total 17 columns):\n",
      " #   Column                   Non-Null Count   Dtype         \n",
      "---  ------                   --------------   -----         \n",
      " 0   duration_sec             174952 non-null  int64         \n",
      " 1   start_time               174952 non-null  datetime64[ns]\n",
      " 2   end_time                 174952 non-null  datetime64[ns]\n",
      " 3   start_station_id         174952 non-null  float64       \n",
      " 4   start_station_name       174952 non-null  object        \n",
      " 5   start_station_latitude   174952 non-null  float64       \n",
      " 6   start_station_longitude  174952 non-null  float64       \n",
      " 7   end_station_id           174952 non-null  float64       \n",
      " 8   end_station_name         174952 non-null  object        \n",
      " 9   end_station_latitude     174952 non-null  float64       \n",
      " 10  end_station_longitude    174952 non-null  float64       \n",
      " 11  bike_id                  174952 non-null  int64         \n",
      " 12  user_type                174952 non-null  object        \n",
      " 13  member_birth_year        174952 non-null  int64         \n",
      " 14  member_gender            174952 non-null  object        \n",
      " 15  bike_share_for_all_trip  174952 non-null  object        \n",
      " 16  age                      174952 non-null  int64         \n",
      "dtypes: datetime64[ns](2), float64(6), int64(4), object(5)\n",
      "memory usage: 24.0+ MB\n"
     ]
    }
   ],
   "source": [
    "# structure of the dataset\n",
    "bike.info()"
   ]
  },
  {
   "cell_type": "markdown",
   "metadata": {},
   "source": [
    "## Data Wrangling"
   ]
  },
  {
   "cell_type": "markdown",
   "metadata": {},
   "source": [
    "### Define"
   ]
  },
  {
   "cell_type": "markdown",
   "metadata": {},
   "source": [
    "Lets convert coordinates to distance and create a new column distance"
   ]
  },
  {
   "cell_type": "markdown",
   "metadata": {},
   "source": [
    "### Code"
   ]
  },
  {
   "cell_type": "code",
   "execution_count": 19,
   "metadata": {},
   "outputs": [],
   "source": [
    "# converting cordinates to distance in radians\n",
    "def haversine(lat1, lon1, lat2, lon2):\n",
    "     \n",
    "    # distance between latitudes and longitudes\n",
    "    distance_Lat = (lat2 - lat1) * math.pi / 180.0\n",
    "    distance_Lon = (lon2 - lon1) * math.pi / 180.0\n",
    " \n",
    "    # convert to radians\n",
    "    lat1 = (lat1) * math.pi / 180.0\n",
    "    lat2 = (lat2) * math.pi / 180.0\n",
    " \n",
    "    # apply formulae\n",
    "    a = (pow(math.sin(distance_Lat / 2), 2) + pow(math.sin(distance_Lon / 2), 2) * math.cos(lat1) * math.cos(lat2));\n",
    "    rad = 6371\n",
    "    b = 2 * math.asin(math.sqrt(a))\n",
    "    return rad * b"
   ]
  },
  {
   "cell_type": "code",
   "execution_count": 20,
   "metadata": {},
   "outputs": [],
   "source": [
    "# creating  new column and converting to float\n",
    "bike['distance']=bike.apply(lambda row:haversine(row['start_station_latitude'],row['start_station_longitude'],row['end_station_latitude'],row['end_station_longitude']),axis=1)\n",
    "bike['distance']=bike['distance'].astype(float)"
   ]
  },
  {
   "cell_type": "markdown",
   "metadata": {},
   "source": [
    "### Test"
   ]
  },
  {
   "cell_type": "code",
   "execution_count": 21,
   "metadata": {},
   "outputs": [
    {
     "data": {
      "text/html": [
       "<div>\n",
       "<style scoped>\n",
       "    .dataframe tbody tr th:only-of-type {\n",
       "        vertical-align: middle;\n",
       "    }\n",
       "\n",
       "    .dataframe tbody tr th {\n",
       "        vertical-align: top;\n",
       "    }\n",
       "\n",
       "    .dataframe thead th {\n",
       "        text-align: right;\n",
       "    }\n",
       "</style>\n",
       "<table border=\"1\" class=\"dataframe\">\n",
       "  <thead>\n",
       "    <tr style=\"text-align: right;\">\n",
       "      <th></th>\n",
       "      <th>duration_sec</th>\n",
       "      <th>start_time</th>\n",
       "      <th>end_time</th>\n",
       "      <th>start_station_id</th>\n",
       "      <th>start_station_name</th>\n",
       "      <th>start_station_latitude</th>\n",
       "      <th>start_station_longitude</th>\n",
       "      <th>end_station_id</th>\n",
       "      <th>end_station_name</th>\n",
       "      <th>end_station_latitude</th>\n",
       "      <th>end_station_longitude</th>\n",
       "      <th>bike_id</th>\n",
       "      <th>user_type</th>\n",
       "      <th>member_birth_year</th>\n",
       "      <th>member_gender</th>\n",
       "      <th>bike_share_for_all_trip</th>\n",
       "      <th>age</th>\n",
       "      <th>distance</th>\n",
       "    </tr>\n",
       "  </thead>\n",
       "  <tbody>\n",
       "    <tr>\n",
       "      <th>0</th>\n",
       "      <td>52185</td>\n",
       "      <td>2019-02-28 17:32:10.145</td>\n",
       "      <td>2019-03-01 08:01:55.975</td>\n",
       "      <td>21.0</td>\n",
       "      <td>Montgomery St BART Station (Market St at 2nd St)</td>\n",
       "      <td>37.789625</td>\n",
       "      <td>-122.400811</td>\n",
       "      <td>13.0</td>\n",
       "      <td>Commercial St at Montgomery St</td>\n",
       "      <td>37.794231</td>\n",
       "      <td>-122.402923</td>\n",
       "      <td>4902</td>\n",
       "      <td>Customer</td>\n",
       "      <td>1984</td>\n",
       "      <td>Male</td>\n",
       "      <td>No</td>\n",
       "      <td>38</td>\n",
       "      <td>0.544709</td>\n",
       "    </tr>\n",
       "    <tr>\n",
       "      <th>2</th>\n",
       "      <td>61854</td>\n",
       "      <td>2019-02-28 12:13:13.218</td>\n",
       "      <td>2019-03-01 05:24:08.146</td>\n",
       "      <td>86.0</td>\n",
       "      <td>Market St at Dolores St</td>\n",
       "      <td>37.769305</td>\n",
       "      <td>-122.426826</td>\n",
       "      <td>3.0</td>\n",
       "      <td>Powell St BART Station (Market St at 4th St)</td>\n",
       "      <td>37.786375</td>\n",
       "      <td>-122.404904</td>\n",
       "      <td>5905</td>\n",
       "      <td>Customer</td>\n",
       "      <td>1972</td>\n",
       "      <td>Male</td>\n",
       "      <td>No</td>\n",
       "      <td>50</td>\n",
       "      <td>2.704545</td>\n",
       "    </tr>\n",
       "  </tbody>\n",
       "</table>\n",
       "</div>"
      ],
      "text/plain": [
       "   duration_sec              start_time                end_time  \\\n",
       "0         52185 2019-02-28 17:32:10.145 2019-03-01 08:01:55.975   \n",
       "2         61854 2019-02-28 12:13:13.218 2019-03-01 05:24:08.146   \n",
       "\n",
       "   start_station_id                                start_station_name  \\\n",
       "0              21.0  Montgomery St BART Station (Market St at 2nd St)   \n",
       "2              86.0                           Market St at Dolores St   \n",
       "\n",
       "   start_station_latitude  start_station_longitude  end_station_id  \\\n",
       "0               37.789625              -122.400811            13.0   \n",
       "2               37.769305              -122.426826             3.0   \n",
       "\n",
       "                               end_station_name  end_station_latitude  \\\n",
       "0                Commercial St at Montgomery St             37.794231   \n",
       "2  Powell St BART Station (Market St at 4th St)             37.786375   \n",
       "\n",
       "   end_station_longitude  bike_id user_type  member_birth_year member_gender  \\\n",
       "0            -122.402923     4902  Customer               1984          Male   \n",
       "2            -122.404904     5905  Customer               1972          Male   \n",
       "\n",
       "  bike_share_for_all_trip  age  distance  \n",
       "0                      No   38  0.544709  \n",
       "2                      No   50  2.704545  "
      ]
     },
     "execution_count": 21,
     "metadata": {},
     "output_type": "execute_result"
    }
   ],
   "source": [
    "# displaying the first 2 rows\n",
    "bike.head(2)"
   ]
  },
  {
   "cell_type": "code",
   "execution_count": 22,
   "metadata": {},
   "outputs": [
    {
     "name": "stdout",
     "output_type": "stream",
     "text": [
      "<class 'pandas.core.frame.DataFrame'>\n",
      "Int64Index: 174952 entries, 0 to 183411\n",
      "Data columns (total 18 columns):\n",
      " #   Column                   Non-Null Count   Dtype         \n",
      "---  ------                   --------------   -----         \n",
      " 0   duration_sec             174952 non-null  int64         \n",
      " 1   start_time               174952 non-null  datetime64[ns]\n",
      " 2   end_time                 174952 non-null  datetime64[ns]\n",
      " 3   start_station_id         174952 non-null  float64       \n",
      " 4   start_station_name       174952 non-null  object        \n",
      " 5   start_station_latitude   174952 non-null  float64       \n",
      " 6   start_station_longitude  174952 non-null  float64       \n",
      " 7   end_station_id           174952 non-null  float64       \n",
      " 8   end_station_name         174952 non-null  object        \n",
      " 9   end_station_latitude     174952 non-null  float64       \n",
      " 10  end_station_longitude    174952 non-null  float64       \n",
      " 11  bike_id                  174952 non-null  int64         \n",
      " 12  user_type                174952 non-null  object        \n",
      " 13  member_birth_year        174952 non-null  int64         \n",
      " 14  member_gender            174952 non-null  object        \n",
      " 15  bike_share_for_all_trip  174952 non-null  object        \n",
      " 16  age                      174952 non-null  int64         \n",
      " 17  distance                 174952 non-null  float64       \n",
      "dtypes: datetime64[ns](2), float64(7), int64(4), object(5)\n",
      "memory usage: 25.4+ MB\n"
     ]
    }
   ],
   "source": [
    "# structure of the dataset\n",
    "bike.info()"
   ]
  },
  {
   "cell_type": "markdown",
   "metadata": {},
   "source": [
    "### Define\n",
    "\n",
    "generate days of the week"
   ]
  },
  {
   "cell_type": "markdown",
   "metadata": {},
   "source": [
    "### Code"
   ]
  },
  {
   "cell_type": "code",
   "execution_count": 23,
   "metadata": {},
   "outputs": [],
   "source": [
    "# generating days of the week from date\n",
    "bike['start_day'] = bike['start_time'].dt.day_name()\n",
    "bike['end_day'] = bike['end_time'].dt.day_name()"
   ]
  },
  {
   "cell_type": "markdown",
   "metadata": {},
   "source": [
    "### Test"
   ]
  },
  {
   "cell_type": "code",
   "execution_count": 24,
   "metadata": {},
   "outputs": [
    {
     "name": "stdout",
     "output_type": "stream",
     "text": [
      "<class 'pandas.core.frame.DataFrame'>\n",
      "Int64Index: 174952 entries, 0 to 183411\n",
      "Data columns (total 20 columns):\n",
      " #   Column                   Non-Null Count   Dtype         \n",
      "---  ------                   --------------   -----         \n",
      " 0   duration_sec             174952 non-null  int64         \n",
      " 1   start_time               174952 non-null  datetime64[ns]\n",
      " 2   end_time                 174952 non-null  datetime64[ns]\n",
      " 3   start_station_id         174952 non-null  float64       \n",
      " 4   start_station_name       174952 non-null  object        \n",
      " 5   start_station_latitude   174952 non-null  float64       \n",
      " 6   start_station_longitude  174952 non-null  float64       \n",
      " 7   end_station_id           174952 non-null  float64       \n",
      " 8   end_station_name         174952 non-null  object        \n",
      " 9   end_station_latitude     174952 non-null  float64       \n",
      " 10  end_station_longitude    174952 non-null  float64       \n",
      " 11  bike_id                  174952 non-null  int64         \n",
      " 12  user_type                174952 non-null  object        \n",
      " 13  member_birth_year        174952 non-null  int64         \n",
      " 14  member_gender            174952 non-null  object        \n",
      " 15  bike_share_for_all_trip  174952 non-null  object        \n",
      " 16  age                      174952 non-null  int64         \n",
      " 17  distance                 174952 non-null  float64       \n",
      " 18  start_day                174952 non-null  object        \n",
      " 19  end_day                  174952 non-null  object        \n",
      "dtypes: datetime64[ns](2), float64(7), int64(4), object(7)\n",
      "memory usage: 28.0+ MB\n"
     ]
    }
   ],
   "source": [
    "# structure of the dataset\n",
    "bike.info()"
   ]
  },
  {
   "cell_type": "markdown",
   "metadata": {},
   "source": [
    "### Define\n",
    "\n",
    "Drop some irrelevant columns"
   ]
  },
  {
   "cell_type": "markdown",
   "metadata": {},
   "source": [
    "### Code"
   ]
  },
  {
   "cell_type": "code",
   "execution_count": 25,
   "metadata": {},
   "outputs": [],
   "source": [
    "# dropping irrelevant column\n",
    "bike_clean = bike.drop(['start_station_latitude', 'start_station_longitude', 'end_station_latitude', 'end_station_longitude', 'member_birth_year'], axis=1)"
   ]
  },
  {
   "cell_type": "markdown",
   "metadata": {},
   "source": [
    "### Test"
   ]
  },
  {
   "cell_type": "code",
   "execution_count": 26,
   "metadata": {},
   "outputs": [
    {
     "name": "stdout",
     "output_type": "stream",
     "text": [
      "<class 'pandas.core.frame.DataFrame'>\n",
      "Int64Index: 174952 entries, 0 to 183411\n",
      "Data columns (total 15 columns):\n",
      " #   Column                   Non-Null Count   Dtype         \n",
      "---  ------                   --------------   -----         \n",
      " 0   duration_sec             174952 non-null  int64         \n",
      " 1   start_time               174952 non-null  datetime64[ns]\n",
      " 2   end_time                 174952 non-null  datetime64[ns]\n",
      " 3   start_station_id         174952 non-null  float64       \n",
      " 4   start_station_name       174952 non-null  object        \n",
      " 5   end_station_id           174952 non-null  float64       \n",
      " 6   end_station_name         174952 non-null  object        \n",
      " 7   bike_id                  174952 non-null  int64         \n",
      " 8   user_type                174952 non-null  object        \n",
      " 9   member_gender            174952 non-null  object        \n",
      " 10  bike_share_for_all_trip  174952 non-null  object        \n",
      " 11  age                      174952 non-null  int64         \n",
      " 12  distance                 174952 non-null  float64       \n",
      " 13  start_day                174952 non-null  object        \n",
      " 14  end_day                  174952 non-null  object        \n",
      "dtypes: datetime64[ns](2), float64(3), int64(3), object(7)\n",
      "memory usage: 21.4+ MB\n"
     ]
    }
   ],
   "source": [
    "# structure of the dataset\n",
    "bike_clean.info()"
   ]
  },
  {
   "cell_type": "code",
   "execution_count": 27,
   "metadata": {},
   "outputs": [
    {
     "data": {
      "text/plain": [
       "(174952, 15)"
      ]
     },
     "execution_count": 27,
     "metadata": {},
     "output_type": "execute_result"
    }
   ],
   "source": [
    "# dimension of the clean dataset\n",
    "bike_clean.shape"
   ]
  },
  {
   "cell_type": "code",
   "execution_count": 28,
   "metadata": {},
   "outputs": [],
   "source": [
    "# saving the clean dataset\n",
    "bike_clean.to_csv('bike_clean.csv', index = False)"
   ]
  },
  {
   "cell_type": "markdown",
   "metadata": {},
   "source": [
    "In the codes above, I have done the following: dropped rows with null values, carried out feature engineering (created new cloumns), generated distances from the provided coordinates, convert the datatype of some columns to the appropriate datatype,  dropped irelevant columns i.e columns that are not need for our analysis and saved a copy of he dataset\n",
    "\n",
    "Next we will be exploring the dataset"
   ]
  },
  {
   "cell_type": "markdown",
   "metadata": {},
   "source": [
    "### What is the structure of your dataset?\n",
    "\n",
    "> After cleaning the dataset is made up of 174952 rows and 15 columns \n",
    "\n",
    "### What is/are the main feature(s) of interest in your dataset?\n",
    "\n",
    "> duration_sec, user_type, member_gender, bike_share_for_all_trip, age and distance\n",
    "\n",
    "### What features in the dataset do you think will help support your investigation into your feature(s) of interest?\n",
    "\n",
    "> start_station_latitude, start_station_longitude, end_station_latitude, end_station_longitude, member_birth_year, start_time end_time, start_station_id, end_station_id"
   ]
  },
  {
   "cell_type": "markdown",
   "metadata": {},
   "source": [
    "## Univariate Exploration\n"
   ]
  },
  {
   "cell_type": "code",
   "execution_count": 29,
   "metadata": {},
   "outputs": [
    {
     "name": "stdout",
     "output_type": "stream",
     "text": [
      "<class 'pandas.core.frame.DataFrame'>\n",
      "Int64Index: 174952 entries, 0 to 183411\n",
      "Data columns (total 15 columns):\n",
      " #   Column                   Non-Null Count   Dtype         \n",
      "---  ------                   --------------   -----         \n",
      " 0   duration_sec             174952 non-null  int64         \n",
      " 1   start_time               174952 non-null  datetime64[ns]\n",
      " 2   end_time                 174952 non-null  datetime64[ns]\n",
      " 3   start_station_id         174952 non-null  float64       \n",
      " 4   start_station_name       174952 non-null  object        \n",
      " 5   end_station_id           174952 non-null  float64       \n",
      " 6   end_station_name         174952 non-null  object        \n",
      " 7   bike_id                  174952 non-null  int64         \n",
      " 8   user_type                174952 non-null  object        \n",
      " 9   member_gender            174952 non-null  object        \n",
      " 10  bike_share_for_all_trip  174952 non-null  object        \n",
      " 11  age                      174952 non-null  int64         \n",
      " 12  distance                 174952 non-null  float64       \n",
      " 13  start_day                174952 non-null  object        \n",
      " 14  end_day                  174952 non-null  object        \n",
      "dtypes: datetime64[ns](2), float64(3), int64(3), object(7)\n",
      "memory usage: 21.4+ MB\n"
     ]
    }
   ],
   "source": [
    "# summary of data structure\n",
    "bike_clean.info()"
   ]
  },
  {
   "cell_type": "markdown",
   "metadata": {},
   "source": [
    "### Question 1\n",
    "\n",
    "What is the period under review"
   ]
  },
  {
   "cell_type": "markdown",
   "metadata": {},
   "source": [
    "### Visualization"
   ]
  },
  {
   "cell_type": "code",
   "execution_count": 30,
   "metadata": {},
   "outputs": [
    {
     "data": {
      "image/png": "[encoded data removed]",
      "text/plain": [
       "<Figure size 864x504 with 1 Axes>"
      ]
     },
     "metadata": {
      "needs_background": "light"
     },
     "output_type": "display_data"
    }
   ],
   "source": [
    "# line plot of the bike ride\n",
    "bike_clean.end_time.plot(kind ='line', figsize=(12,7));"
   ]
  },
  {
   "cell_type": "markdown",
   "metadata": {},
   "source": [
    "### Observation\n",
    "\n",
    "The period under review is from 1st feb 2019 to 1st Mar 2019"
   ]
  },
  {
   "cell_type": "markdown",
   "metadata": {},
   "source": [
    "### Question 2\n",
    "\n",
    "Which day of the week is bike ride shared the most?"
   ]
  },
  {
   "cell_type": "markdown",
   "metadata": {},
   "source": [
    "### Visualization"
   ]
  },
  {
   "cell_type": "code",
   "execution_count": 31,
   "metadata": {},
   "outputs": [
    {
     "data": {
      "image/png": "[encoded data removed]",
      "text/plain": [
       "<Figure size 864x504 with 1 Axes>"
      ]
     },
     "metadata": {
      "needs_background": "light"
     },
     "output_type": "display_data"
    }
   ],
   "source": [
    "days_in_order = ['Monday', 'Tuesday', 'Wednesday', 'Thursday', 'Friday', 'Saturday', 'Sunday']\n",
    "\n",
    "# days with the most bike ride\n",
    "ax = bike_clean.start_day.value_counts().reindex(days_in_order).plot(kind='bar', figsize=(12,7), rot=0)\n",
    "plt.xlabel('Days of the Week')\n",
    "plt.ylabel('Frequency')\n",
    "plt.title('Bike Sharing per Weekday');\n",
    "\n",
    "for container in ax.containers:\n",
    "    ax.bar_label(container)"
   ]
  },
  {
   "cell_type": "markdown",
   "metadata": {},
   "source": [
    "### Observations\n",
    "\n",
    "Displaying the frequency of daily rides shows that the day of the week bike rides were shared the most was Thursdays with over 33000 bike shared in the period under review. While the least is week end Saturdays and Sundays"
   ]
  },
  {
   "cell_type": "markdown",
   "metadata": {},
   "source": [
    "### Question 3\n",
    "What is the number and percentage of the user types?"
   ]
  },
  {
   "cell_type": "markdown",
   "metadata": {},
   "source": [
    "### Visualization"
   ]
  },
  {
   "cell_type": "code",
   "execution_count": 32,
   "metadata": {},
   "outputs": [
    {
     "data": {
      "image/png": "[encoded data removed]",
      "text/plain": [
       "<Figure size 432x288 with 1 Axes>"
      ]
     },
     "metadata": {
      "needs_background": "light"
     },
     "output_type": "display_data"
    }
   ],
   "source": [
    "# plot of user type count\n",
    "bx = bike_clean.user_type.value_counts().plot(kind='bar', rot=0)\n",
    "\n",
    "plt.xlabel('User Type')\n",
    "plt.ylabel('Count')\n",
    "plt.title('Types of User');\n",
    "\n",
    "for container in bx.containers:\n",
    "    bx.bar_label(container)"
   ]
  },
  {
   "cell_type": "code",
   "execution_count": 33,
   "metadata": {},
   "outputs": [
    {
     "data": {
      "image/png": "[encoded data removed]",
      "text/plain": [
       "<Figure size 432x288 with 1 Axes>"
      ]
     },
     "metadata": {
      "needs_background": "light"
     },
     "output_type": "display_data"
    }
   ],
   "source": [
    "series = bike_clean['user_type'].value_counts() / len(bike_clean)\n",
    "indx = [0,1]\n",
    "plt.bar(indx, series*100)\n",
    "plt.ylabel('%')\n",
    "plt.title('Relative Fequency for User Types')\n",
    "plt.xticks(indx, series.index);\n"
   ]
  },
  {
   "cell_type": "markdown",
   "metadata": {},
   "source": [
    "### Observation\n",
    "\n",
    "The subscribed users is very large (over 85%) compared with the number of customer"
   ]
  },
  {
   "cell_type": "markdown",
   "metadata": {},
   "source": [
    "### Question 4\n",
    "What is the number and percentage of the various gender types in the dataset?"
   ]
  },
  {
   "cell_type": "markdown",
   "metadata": {},
   "source": [
    "### Visualization"
   ]
  },
  {
   "cell_type": "code",
   "execution_count": 34,
   "metadata": {
    "scrolled": true
   },
   "outputs": [
    {
     "data": {
      "image/png": "[encoded data removed]",
      "text/plain": [
       "<Figure size 432x288 with 1 Axes>"
      ]
     },
     "metadata": {
      "needs_background": "light"
     },
     "output_type": "display_data"
    }
   ],
   "source": [
    "# displaying the genders in the dataset\n",
    "cx = bike_clean.member_gender.value_counts().plot(kind='bar', rot=0)\n",
    "plt.xlabel('Gender')\n",
    "plt.ylabel('Count')\n",
    "plt.title('Gender Types');\n",
    "\n",
    "for container in cx.containers:\n",
    "    cx.bar_label(container)"
   ]
  },
  {
   "cell_type": "code",
   "execution_count": 35,
   "metadata": {},
   "outputs": [
    {
     "data": {
      "image/png": "[encoded data removed]",
      "text/plain": [
       "<Figure size 432x288 with 1 Axes>"
      ]
     },
     "metadata": {
      "needs_background": "light"
     },
     "output_type": "display_data"
    }
   ],
   "source": [
    "series = bike_clean['member_gender'].value_counts() / len(bike_clean)\n",
    "indx = [0,1,2]\n",
    "plt.bar(indx, series*100)\n",
    "plt.ylabel('%')\n",
    "plt.title('Relative fequency')\n",
    "plt.xticks(indx, series.index);\n",
    "\n"
   ]
  },
  {
   "cell_type": "markdown",
   "metadata": {},
   "source": [
    "### Question 5\n",
    "\n",
    "What is the number and percentage of shared rides?"
   ]
  },
  {
   "cell_type": "markdown",
   "metadata": {},
   "source": [
    "### Visualization"
   ]
  },
  {
   "cell_type": "code",
   "execution_count": 36,
   "metadata": {},
   "outputs": [
    {
     "data": {
      "image/png": "[encoded data removed]",
      "text/plain": [
       "<Figure size 432x288 with 1 Axes>"
      ]
     },
     "metadata": {
      "needs_background": "light"
     },
     "output_type": "display_data"
    }
   ],
   "source": [
    "# displaying number of shared  trips\n",
    "dx = bike_clean.bike_share_for_all_trip.value_counts().plot(kind='bar', rot=0)\n",
    "\n",
    "plt.xlabel('Shared Trip')\n",
    "plt.ylabel('Count')\n",
    "plt.title('Number of Shared Trips');\n",
    "\n",
    "for container in dx.containers:\n",
    "    dx.bar_label(container)"
   ]
  },
  {
   "cell_type": "code",
   "execution_count": 37,
   "metadata": {},
   "outputs": [
    {
     "data": {
      "image/png": "[encoded data removed]",
      "text/plain": [
       "<Figure size 432x288 with 1 Axes>"
      ]
     },
     "metadata": {
      "needs_background": "light"
     },
     "output_type": "display_data"
    }
   ],
   "source": [
    "series = bike_clean['bike_share_for_all_trip'].value_counts() / len(bike_clean)\n",
    "indx = [0,1]\n",
    "plt.bar(indx, series*100)\n",
    "plt.ylabel('%')\n",
    "plt.title('Relative fequency')\n",
    "plt.xticks(indx, series.index);"
   ]
  },
  {
   "cell_type": "markdown",
   "metadata": {},
   "source": [
    "### Observation\n",
    "\n",
    "Over 85% of trips were not shared\n"
   ]
  },
  {
   "cell_type": "markdown",
   "metadata": {},
   "source": [
    "### Question 6\n",
    " \n",
    "What is the distribution of the age?"
   ]
  },
  {
   "cell_type": "markdown",
   "metadata": {},
   "source": [
    "### Visualization"
   ]
  },
  {
   "cell_type": "code",
   "execution_count": 38,
   "metadata": {},
   "outputs": [
    {
     "data": {
      "image/png": "[encoded data removed]",
      "text/plain": [
       "<Figure size 720x432 with 1 Axes>"
      ]
     },
     "metadata": {
      "needs_background": "light"
     },
     "output_type": "display_data"
    }
   ],
   "source": [
    "\n",
    "# histogram of the age group\n",
    "plt.figure(figsize=(10,6))\n",
    "plt.hist(data = bike_clean, x = 'age', bins=40);\n",
    "#plt.figure(figsize=(8,8))\n",
    "\n",
    "plt.xlabel('Age')\n",
    "plt.ylabel('Fequency')\n",
    "plt.title('Histogran of Age');"
   ]
  },
  {
   "cell_type": "markdown",
   "metadata": {},
   "source": [
    "### Observation\n",
    "Age distribution is unimodal and we see more riders within the ages of 20 and 40 with the most being between 30 and 40"
   ]
  },
  {
   "cell_type": "markdown",
   "metadata": {},
   "source": [
    "### Question 7\n",
    "What is the distribution of duration\n",
    "\n",
    "\n",
    "### Visualization"
   ]
  },
  {
   "cell_type": "code",
   "execution_count": 39,
   "metadata": {},
   "outputs": [
    {
     "data": {
      "image/png": "[encoded data removed]",
      "text/plain": [
       "<Figure size 432x288 with 1 Axes>"
      ]
     },
     "metadata": {
      "needs_background": "light"
     },
     "output_type": "display_data"
    }
   ],
   "source": [
    "# histogram of the duration\n",
    "# 0, 8, 80, 800, 8000, 80000\n",
    "plt.hist(data = bike_clean, x = 'duration_sec', bins=15);\n",
    "\n",
    "plt.xlabel('Duration')\n",
    "plt.ylabel('Fequency')\n",
    "plt.title('Histogran of the Duration');"
   ]
  },
  {
   "cell_type": "code",
   "execution_count": 40,
   "metadata": {},
   "outputs": [
    {
     "data": {
      "text/plain": [
       "count    174952.000000\n",
       "mean        704.002744\n",
       "std        1642.204905\n",
       "min          61.000000\n",
       "25%         323.000000\n",
       "50%         510.000000\n",
       "75%         789.000000\n",
       "max       84548.000000\n",
       "Name: duration_sec, dtype: float64"
      ]
     },
     "execution_count": 40,
     "metadata": {},
     "output_type": "execute_result"
    }
   ],
   "source": [
    "# description summary of duration\n",
    "bike_clean.duration_sec.describe()"
   ]
  },
  {
   "cell_type": "code",
   "execution_count": 41,
   "metadata": {},
   "outputs": [
    {
     "data": {
      "text/html": [
       "<div>\n",
       "<style scoped>\n",
       "    .dataframe tbody tr th:only-of-type {\n",
       "        vertical-align: middle;\n",
       "    }\n",
       "\n",
       "    .dataframe tbody tr th {\n",
       "        vertical-align: top;\n",
       "    }\n",
       "\n",
       "    .dataframe thead th {\n",
       "        text-align: right;\n",
       "    }\n",
       "</style>\n",
       "<table border=\"1\" class=\"dataframe\">\n",
       "  <thead>\n",
       "    <tr style=\"text-align: right;\">\n",
       "      <th></th>\n",
       "      <th>duration_sec</th>\n",
       "      <th>start_time</th>\n",
       "      <th>end_time</th>\n",
       "      <th>start_station_id</th>\n",
       "      <th>start_station_name</th>\n",
       "      <th>end_station_id</th>\n",
       "      <th>end_station_name</th>\n",
       "      <th>bike_id</th>\n",
       "      <th>user_type</th>\n",
       "      <th>member_gender</th>\n",
       "      <th>bike_share_for_all_trip</th>\n",
       "      <th>age</th>\n",
       "      <th>distance</th>\n",
       "      <th>start_day</th>\n",
       "      <th>end_day</th>\n",
       "    </tr>\n",
       "  </thead>\n",
       "  <tbody>\n",
       "    <tr>\n",
       "      <th>0</th>\n",
       "      <td>52185</td>\n",
       "      <td>2019-02-28 17:32:10.145</td>\n",
       "      <td>2019-03-01 08:01:55.975</td>\n",
       "      <td>21.0</td>\n",
       "      <td>Montgomery St BART Station (Market St at 2nd St)</td>\n",
       "      <td>13.0</td>\n",
       "      <td>Commercial St at Montgomery St</td>\n",
       "      <td>4902</td>\n",
       "      <td>Customer</td>\n",
       "      <td>Male</td>\n",
       "      <td>No</td>\n",
       "      <td>38</td>\n",
       "      <td>0.544709</td>\n",
       "      <td>Thursday</td>\n",
       "      <td>Friday</td>\n",
       "    </tr>\n",
       "    <tr>\n",
       "      <th>2</th>\n",
       "      <td>61854</td>\n",
       "      <td>2019-02-28 12:13:13.218</td>\n",
       "      <td>2019-03-01 05:24:08.146</td>\n",
       "      <td>86.0</td>\n",
       "      <td>Market St at Dolores St</td>\n",
       "      <td>3.0</td>\n",
       "      <td>Powell St BART Station (Market St at 4th St)</td>\n",
       "      <td>5905</td>\n",
       "      <td>Customer</td>\n",
       "      <td>Male</td>\n",
       "      <td>No</td>\n",
       "      <td>50</td>\n",
       "      <td>2.704545</td>\n",
       "      <td>Thursday</td>\n",
       "      <td>Friday</td>\n",
       "    </tr>\n",
       "    <tr>\n",
       "      <th>3401</th>\n",
       "      <td>62452</td>\n",
       "      <td>2019-02-28 00:04:01.344</td>\n",
       "      <td>2019-02-28 17:24:54.137</td>\n",
       "      <td>154.0</td>\n",
       "      <td>Doyle St at 59th St</td>\n",
       "      <td>213.0</td>\n",
       "      <td>32nd St at Adeline St</td>\n",
       "      <td>4683</td>\n",
       "      <td>Subscriber</td>\n",
       "      <td>Female</td>\n",
       "      <td>No</td>\n",
       "      <td>33</td>\n",
       "      <td>2.098161</td>\n",
       "      <td>Thursday</td>\n",
       "      <td>Thursday</td>\n",
       "    </tr>\n",
       "    <tr>\n",
       "      <th>5203</th>\n",
       "      <td>83195</td>\n",
       "      <td>2019-02-27 14:47:23.181</td>\n",
       "      <td>2019-02-28 13:53:58.433</td>\n",
       "      <td>243.0</td>\n",
       "      <td>Bancroft Way at College Ave</td>\n",
       "      <td>248.0</td>\n",
       "      <td>Telegraph Ave at Ashby Ave</td>\n",
       "      <td>5781</td>\n",
       "      <td>Subscriber</td>\n",
       "      <td>Female</td>\n",
       "      <td>Yes</td>\n",
       "      <td>60</td>\n",
       "      <td>1.565618</td>\n",
       "      <td>Wednesday</td>\n",
       "      <td>Thursday</td>\n",
       "    </tr>\n",
       "    <tr>\n",
       "      <th>7268</th>\n",
       "      <td>66065</td>\n",
       "      <td>2019-02-27 15:00:20.639</td>\n",
       "      <td>2019-02-28 09:21:26.336</td>\n",
       "      <td>349.0</td>\n",
       "      <td>Howard St at Mary St</td>\n",
       "      <td>62.0</td>\n",
       "      <td>Victoria Manalo Draves Park</td>\n",
       "      <td>6107</td>\n",
       "      <td>Customer</td>\n",
       "      <td>Male</td>\n",
       "      <td>No</td>\n",
       "      <td>28</td>\n",
       "      <td>0.364225</td>\n",
       "      <td>Wednesday</td>\n",
       "      <td>Thursday</td>\n",
       "    </tr>\n",
       "    <tr>\n",
       "      <th>...</th>\n",
       "      <td>...</td>\n",
       "      <td>...</td>\n",
       "      <td>...</td>\n",
       "      <td>...</td>\n",
       "      <td>...</td>\n",
       "      <td>...</td>\n",
       "      <td>...</td>\n",
       "      <td>...</td>\n",
       "      <td>...</td>\n",
       "      <td>...</td>\n",
       "      <td>...</td>\n",
       "      <td>...</td>\n",
       "      <td>...</td>\n",
       "      <td>...</td>\n",
       "      <td>...</td>\n",
       "    </tr>\n",
       "    <tr>\n",
       "      <th>165066</th>\n",
       "      <td>51574</td>\n",
       "      <td>2019-02-04 17:35:50.621</td>\n",
       "      <td>2019-02-05 07:55:25.306</td>\n",
       "      <td>115.0</td>\n",
       "      <td>Jackson Playground</td>\n",
       "      <td>47.0</td>\n",
       "      <td>4th St at Harrison St</td>\n",
       "      <td>1106</td>\n",
       "      <td>Subscriber</td>\n",
       "      <td>Male</td>\n",
       "      <td>No</td>\n",
       "      <td>51</td>\n",
       "      <td>1.773266</td>\n",
       "      <td>Monday</td>\n",
       "      <td>Tuesday</td>\n",
       "    </tr>\n",
       "    <tr>\n",
       "      <th>172287</th>\n",
       "      <td>47317</td>\n",
       "      <td>2019-02-03 03:35:32.413</td>\n",
       "      <td>2019-02-03 16:44:10.385</td>\n",
       "      <td>95.0</td>\n",
       "      <td>Sanchez St at 15th St</td>\n",
       "      <td>95.0</td>\n",
       "      <td>Sanchez St at 15th St</td>\n",
       "      <td>5282</td>\n",
       "      <td>Subscriber</td>\n",
       "      <td>Male</td>\n",
       "      <td>No</td>\n",
       "      <td>39</td>\n",
       "      <td>0.000000</td>\n",
       "      <td>Sunday</td>\n",
       "      <td>Sunday</td>\n",
       "    </tr>\n",
       "    <tr>\n",
       "      <th>174403</th>\n",
       "      <td>67512</td>\n",
       "      <td>2019-02-01 23:54:03.833</td>\n",
       "      <td>2019-02-02 18:39:16.575</td>\n",
       "      <td>19.0</td>\n",
       "      <td>Post St at Kearny St</td>\n",
       "      <td>6.0</td>\n",
       "      <td>The Embarcadero at Sansome St</td>\n",
       "      <td>2769</td>\n",
       "      <td>Subscriber</td>\n",
       "      <td>Male</td>\n",
       "      <td>No</td>\n",
       "      <td>26</td>\n",
       "      <td>1.756428</td>\n",
       "      <td>Friday</td>\n",
       "      <td>Saturday</td>\n",
       "    </tr>\n",
       "    <tr>\n",
       "      <th>176130</th>\n",
       "      <td>59813</td>\n",
       "      <td>2019-02-01 19:54:49.848</td>\n",
       "      <td>2019-02-02 12:31:43.043</td>\n",
       "      <td>60.0</td>\n",
       "      <td>8th St at Ringold St</td>\n",
       "      <td>43.0</td>\n",
       "      <td>San Francisco Public Library (Grove St at Hyde...</td>\n",
       "      <td>335</td>\n",
       "      <td>Subscriber</td>\n",
       "      <td>Female</td>\n",
       "      <td>No</td>\n",
       "      <td>32</td>\n",
       "      <td>0.739854</td>\n",
       "      <td>Friday</td>\n",
       "      <td>Saturday</td>\n",
       "    </tr>\n",
       "    <tr>\n",
       "      <th>177144</th>\n",
       "      <td>51488</td>\n",
       "      <td>2019-02-01 17:22:49.870</td>\n",
       "      <td>2019-02-02 07:40:58.473</td>\n",
       "      <td>207.0</td>\n",
       "      <td>Broadway at Coronado Ave</td>\n",
       "      <td>253.0</td>\n",
       "      <td>Haste St at College Ave</td>\n",
       "      <td>847</td>\n",
       "      <td>Subscriber</td>\n",
       "      <td>Male</td>\n",
       "      <td>Yes</td>\n",
       "      <td>25</td>\n",
       "      <td>3.411229</td>\n",
       "      <td>Friday</td>\n",
       "      <td>Saturday</td>\n",
       "    </tr>\n",
       "  </tbody>\n",
       "</table>\n",
       "<p>87 rows × 15 columns</p>\n",
       "</div>"
      ],
      "text/plain": [
       "        duration_sec              start_time                end_time  \\\n",
       "0              52185 2019-02-28 17:32:10.145 2019-03-01 08:01:55.975   \n",
       "2              61854 2019-02-28 12:13:13.218 2019-03-01 05:24:08.146   \n",
       "3401           62452 2019-02-28 00:04:01.344 2019-02-28 17:24:54.137   \n",
       "5203           83195 2019-02-27 14:47:23.181 2019-02-28 13:53:58.433   \n",
       "7268           66065 2019-02-27 15:00:20.639 2019-02-28 09:21:26.336   \n",
       "...              ...                     ...                     ...   \n",
       "165066         51574 2019-02-04 17:35:50.621 2019-02-05 07:55:25.306   \n",
       "172287         47317 2019-02-03 03:35:32.413 2019-02-03 16:44:10.385   \n",
       "174403         67512 2019-02-01 23:54:03.833 2019-02-02 18:39:16.575   \n",
       "176130         59813 2019-02-01 19:54:49.848 2019-02-02 12:31:43.043   \n",
       "177144         51488 2019-02-01 17:22:49.870 2019-02-02 07:40:58.473   \n",
       "\n",
       "        start_station_id                                start_station_name  \\\n",
       "0                   21.0  Montgomery St BART Station (Market St at 2nd St)   \n",
       "2                   86.0                           Market St at Dolores St   \n",
       "3401               154.0                               Doyle St at 59th St   \n",
       "5203               243.0                       Bancroft Way at College Ave   \n",
       "7268               349.0                              Howard St at Mary St   \n",
       "...                  ...                                               ...   \n",
       "165066             115.0                                Jackson Playground   \n",
       "172287              95.0                             Sanchez St at 15th St   \n",
       "174403              19.0                              Post St at Kearny St   \n",
       "176130              60.0                              8th St at Ringold St   \n",
       "177144             207.0                          Broadway at Coronado Ave   \n",
       "\n",
       "        end_station_id                                   end_station_name  \\\n",
       "0                 13.0                     Commercial St at Montgomery St   \n",
       "2                  3.0       Powell St BART Station (Market St at 4th St)   \n",
       "3401             213.0                              32nd St at Adeline St   \n",
       "5203             248.0                         Telegraph Ave at Ashby Ave   \n",
       "7268              62.0                        Victoria Manalo Draves Park   \n",
       "...                ...                                                ...   \n",
       "165066            47.0                              4th St at Harrison St   \n",
       "172287            95.0                              Sanchez St at 15th St   \n",
       "174403             6.0                      The Embarcadero at Sansome St   \n",
       "176130            43.0  San Francisco Public Library (Grove St at Hyde...   \n",
       "177144           253.0                            Haste St at College Ave   \n",
       "\n",
       "        bike_id   user_type member_gender bike_share_for_all_trip  age  \\\n",
       "0          4902    Customer          Male                      No   38   \n",
       "2          5905    Customer          Male                      No   50   \n",
       "3401       4683  Subscriber        Female                      No   33   \n",
       "5203       5781  Subscriber        Female                     Yes   60   \n",
       "7268       6107    Customer          Male                      No   28   \n",
       "...         ...         ...           ...                     ...  ...   \n",
       "165066     1106  Subscriber          Male                      No   51   \n",
       "172287     5282  Subscriber          Male                      No   39   \n",
       "174403     2769  Subscriber          Male                      No   26   \n",
       "176130      335  Subscriber        Female                      No   32   \n",
       "177144      847  Subscriber          Male                     Yes   25   \n",
       "\n",
       "        distance  start_day   end_day  \n",
       "0       0.544709   Thursday    Friday  \n",
       "2       2.704545   Thursday    Friday  \n",
       "3401    2.098161   Thursday  Thursday  \n",
       "5203    1.565618  Wednesday  Thursday  \n",
       "7268    0.364225  Wednesday  Thursday  \n",
       "...          ...        ...       ...  \n",
       "165066  1.773266     Monday   Tuesday  \n",
       "172287  0.000000     Sunday    Sunday  \n",
       "174403  1.756428     Friday  Saturday  \n",
       "176130  0.739854     Friday  Saturday  \n",
       "177144  3.411229     Friday  Saturday  \n",
       "\n",
       "[87 rows x 15 columns]"
      ]
     },
     "execution_count": 41,
     "metadata": {},
     "output_type": "execute_result"
    }
   ],
   "source": [
    "# displaying duration greater than 40000 seconds\n",
    "bike_clean[bike_clean['duration_sec'] >40000 ]"
   ]
  },
  {
   "cell_type": "code",
   "execution_count": 42,
   "metadata": {},
   "outputs": [
    {
     "data": {
      "image/png": "[encoded data removed]",
      "text/plain": [
       "<Figure size 432x288 with 1 Axes>"
      ]
     },
     "metadata": {
      "needs_background": "light"
     },
     "output_type": "display_data"
    }
   ],
   "source": [
    "# Axis transformation\n",
    "# Bin size\n",
    "bins = 10 ** np.arange(1, 4+0.1, 0.1)\n",
    "plt.hist(data=bike_clean, x='duration_sec', bins=bins)\n",
    "\n",
    "# The argument in the xscale() represents the axis scale type to apply.\n",
    "plt.xscale('log')\n",
    "\n",
    "# Apply x-axis label\n",
    "plt.xlabel('x-axis limits are changed, and scaled to log-type');"
   ]
  },
  {
   "cell_type": "markdown",
   "metadata": {},
   "source": [
    "### Observation\n",
    "\n",
    "The distribution of the duration is very skewed to the right and was transformed to ensure accurate representation of the distribution. After ransformation it has turned to a normal distribution with 75% of the duration fall"
   ]
  },
  {
   "cell_type": "markdown",
   "metadata": {},
   "source": [
    "### Question 8\n",
    "What is the distribution of the distance feature\n",
    "\n",
    "### Visualization"
   ]
  },
  {
   "cell_type": "code",
   "execution_count": 43,
   "metadata": {},
   "outputs": [
    {
     "data": {
      "image/png": "[encoded data removed]",
      "text/plain": [
       "<Figure size 432x288 with 1 Axes>"
      ]
     },
     "metadata": {
      "needs_background": "light"
     },
     "output_type": "display_data"
    }
   ],
   "source": [
    "# histogram of the distance\n",
    "plt.hist(data = bike_clean, x = 'distance', bins=15);\n",
    "\n",
    "plt.xlabel('Distance')\n",
    "plt.ylabel('Fequency')\n",
    "plt.title('Histogran of the Distance');"
   ]
  },
  {
   "cell_type": "code",
   "execution_count": 44,
   "metadata": {},
   "outputs": [
    {
     "data": {
      "text/plain": [
       "count    174952.000000\n",
       "mean          1.690049\n",
       "std           1.096957\n",
       "min           0.000000\n",
       "25%           0.910443\n",
       "50%           1.429829\n",
       "75%           2.224010\n",
       "max          69.469241\n",
       "Name: distance, dtype: float64"
      ]
     },
     "execution_count": 44,
     "metadata": {},
     "output_type": "execute_result"
    }
   ],
   "source": [
    "# summary description of distance\n",
    "bike_clean.distance.describe()"
   ]
  },
  {
   "cell_type": "code",
   "execution_count": 45,
   "metadata": {},
   "outputs": [
    {
     "data": {
      "text/html": [
       "<div>\n",
       "<style scoped>\n",
       "    .dataframe tbody tr th:only-of-type {\n",
       "        vertical-align: middle;\n",
       "    }\n",
       "\n",
       "    .dataframe tbody tr th {\n",
       "        vertical-align: top;\n",
       "    }\n",
       "\n",
       "    .dataframe thead th {\n",
       "        text-align: right;\n",
       "    }\n",
       "</style>\n",
       "<table border=\"1\" class=\"dataframe\">\n",
       "  <thead>\n",
       "    <tr style=\"text-align: right;\">\n",
       "      <th></th>\n",
       "      <th>duration_sec</th>\n",
       "      <th>start_time</th>\n",
       "      <th>end_time</th>\n",
       "      <th>start_station_id</th>\n",
       "      <th>start_station_name</th>\n",
       "      <th>end_station_id</th>\n",
       "      <th>end_station_name</th>\n",
       "      <th>bike_id</th>\n",
       "      <th>user_type</th>\n",
       "      <th>member_gender</th>\n",
       "      <th>bike_share_for_all_trip</th>\n",
       "      <th>age</th>\n",
       "      <th>distance</th>\n",
       "      <th>start_day</th>\n",
       "      <th>end_day</th>\n",
       "    </tr>\n",
       "  </thead>\n",
       "  <tbody>\n",
       "    <tr>\n",
       "      <th>112038</th>\n",
       "      <td>6945</td>\n",
       "      <td>2019-02-12 14:28:44.402</td>\n",
       "      <td>2019-02-12 16:24:30.158</td>\n",
       "      <td>21.0</td>\n",
       "      <td>Montgomery St BART Station (Market St at 2nd St)</td>\n",
       "      <td>300.0</td>\n",
       "      <td>Palm St at Willow St</td>\n",
       "      <td>4780</td>\n",
       "      <td>Subscriber</td>\n",
       "      <td>Female</td>\n",
       "      <td>No</td>\n",
       "      <td>37</td>\n",
       "      <td>69.469241</td>\n",
       "      <td>Tuesday</td>\n",
       "      <td>Tuesday</td>\n",
       "    </tr>\n",
       "  </tbody>\n",
       "</table>\n",
       "</div>"
      ],
      "text/plain": [
       "        duration_sec              start_time                end_time  \\\n",
       "112038          6945 2019-02-12 14:28:44.402 2019-02-12 16:24:30.158   \n",
       "\n",
       "        start_station_id                                start_station_name  \\\n",
       "112038              21.0  Montgomery St BART Station (Market St at 2nd St)   \n",
       "\n",
       "        end_station_id      end_station_name  bike_id   user_type  \\\n",
       "112038           300.0  Palm St at Willow St     4780  Subscriber   \n",
       "\n",
       "       member_gender bike_share_for_all_trip  age   distance start_day  \\\n",
       "112038        Female                      No   37  69.469241   Tuesday   \n",
       "\n",
       "        end_day  \n",
       "112038  Tuesday  "
      ]
     },
     "execution_count": 45,
     "metadata": {},
     "output_type": "execute_result"
    }
   ],
   "source": [
    "# identifying the outlier\n",
    "bike_clean[bike_clean['distance'] > 16]"
   ]
  },
  {
   "cell_type": "code",
   "execution_count": 46,
   "metadata": {},
   "outputs": [],
   "source": [
    "# dropping the outlier\n",
    "bike_clean = bike_clean.drop(index=112038)"
   ]
  },
  {
   "cell_type": "markdown",
   "metadata": {},
   "source": [
    "## Test"
   ]
  },
  {
   "cell_type": "code",
   "execution_count": 47,
   "metadata": {},
   "outputs": [
    {
     "data": {
      "text/plain": [
       "count    174951.000000\n",
       "mean          1.689662\n",
       "std           1.084925\n",
       "min           0.000000\n",
       "25%           0.910423\n",
       "50%           1.429829\n",
       "75%           2.224010\n",
       "max          15.673955\n",
       "Name: distance, dtype: float64"
      ]
     },
     "execution_count": 47,
     "metadata": {},
     "output_type": "execute_result"
    }
   ],
   "source": [
    "# summary description of distance\n",
    "bike_clean.distance.describe() "
   ]
  },
  {
   "cell_type": "code",
   "execution_count": 48,
   "metadata": {},
   "outputs": [
    {
     "data": {
      "text/plain": [
       "<AxesSubplot:>"
      ]
     },
     "execution_count": 48,
     "metadata": {},
     "output_type": "execute_result"
    },
    {
     "data": {
      "image/png": "[encoded data removed]",
      "text/plain": [
       "<Figure size 432x288 with 1 Axes>"
      ]
     },
     "metadata": {
      "needs_background": "light"
     },
     "output_type": "display_data"
    }
   ],
   "source": [
    "# summary description of distance\n",
    "bike_clean.distance.hist(bins = 30)"
   ]
  },
  {
   "cell_type": "markdown",
   "metadata": {},
   "source": [
    "### Observation\n",
    "Distance contained an outlier and it was dropped so as to give a true picture of the distribution. Most of the trip time fall between 0 and 3 rads"
   ]
  },
  {
   "cell_type": "code",
   "execution_count": 49,
   "metadata": {},
   "outputs": [
    {
     "data": {
      "text/plain": [
       "(174951, 15)"
      ]
     },
     "execution_count": 49,
     "metadata": {},
     "output_type": "execute_result"
    }
   ],
   "source": [
    "# dimension of dataset\n",
    "bike_clean.shape"
   ]
  },
  {
   "cell_type": "markdown",
   "metadata": {},
   "source": [
    "### Discuss the distribution(s) of your variable(s) of interest. Were there any unusual points? Did you need to perform any transformations?\n",
    "\n",
    "> The age distribution is right skewed. However i could still make out some information from the distribution. \n",
    "Duration feature shows a very skewed distribution. Upon investigation a lot of data point lie in the right tail and as such it needed to be transformed inorder not to lose data and have a true distribution representation. Distance also was skewwed to the right but this was observed to contain an outlier. After dropping the outlier the data showed a near normal distribution\n",
    "\n",
    "### Of the features you investigated, were there any unusual distributions? Did you perform any operations on the data to tidy, adjust, or change the form of the data? If so, why did you do this?\n",
    "\n",
    "> In the codes above, I have done the following: dropped rows with null values, carried out feature engineering (created new cloumns), generated distances from the provided coordinates, convert the datatype of some columns to the appropriate datatype,  dropped irelevant columns i.e columns that are not need for our analysis and saved a copy of he dataset\n",
    "\n",
    "> Next we will be exploring the dataset"
   ]
  },
  {
   "cell_type": "markdown",
   "metadata": {},
   "source": [
    "## Bivariate Exploration\n",
    "\n",
    "> In this section, investigate relationships between pairs of variables in your\n",
    "data. Make sure the variables that you cover here have been introduced in some\n",
    "fashion in the previous section (univariate exploration)."
   ]
  },
  {
   "cell_type": "code",
   "execution_count": 50,
   "metadata": {},
   "outputs": [
    {
     "name": "stdout",
     "output_type": "stream",
     "text": [
      "<class 'pandas.core.frame.DataFrame'>\n",
      "Int64Index: 174951 entries, 0 to 183411\n",
      "Data columns (total 15 columns):\n",
      " #   Column                   Non-Null Count   Dtype         \n",
      "---  ------                   --------------   -----         \n",
      " 0   duration_sec             174951 non-null  int64         \n",
      " 1   start_time               174951 non-null  datetime64[ns]\n",
      " 2   end_time                 174951 non-null  datetime64[ns]\n",
      " 3   start_station_id         174951 non-null  float64       \n",
      " 4   start_station_name       174951 non-null  object        \n",
      " 5   end_station_id           174951 non-null  float64       \n",
      " 6   end_station_name         174951 non-null  object        \n",
      " 7   bike_id                  174951 non-null  int64         \n",
      " 8   user_type                174951 non-null  object        \n",
      " 9   member_gender            174951 non-null  object        \n",
      " 10  bike_share_for_all_trip  174951 non-null  object        \n",
      " 11  age                      174951 non-null  int64         \n",
      " 12  distance                 174951 non-null  float64       \n",
      " 13  start_day                174951 non-null  object        \n",
      " 14  end_day                  174951 non-null  object        \n",
      "dtypes: datetime64[ns](2), float64(3), int64(3), object(7)\n",
      "memory usage: 21.4+ MB\n"
     ]
    }
   ],
   "source": [
    "# sructure of the data\n",
    "bike_clean.info()"
   ]
  },
  {
   "cell_type": "code",
   "execution_count": 51,
   "metadata": {},
   "outputs": [
    {
     "data": {
      "text/plain": [
       "34     10214\n",
       "29      9323\n",
       "33      8967\n",
       "32      8640\n",
       "31      8484\n",
       "       ...  \n",
       "94         1\n",
       "144        1\n",
       "92         1\n",
       "112        1\n",
       "95         1\n",
       "Name: age, Length: 75, dtype: int64"
      ]
     },
     "execution_count": 51,
     "metadata": {},
     "output_type": "execute_result"
    }
   ],
   "source": [
    "# count of individual age\n",
    "bike_clean.age.value_counts()"
   ]
  },
  {
   "cell_type": "code",
   "execution_count": 52,
   "metadata": {},
   "outputs": [],
   "source": [
    "# identifying the outlier in the distance column\n",
    "# bike_clean[bike_clean['distance'] == 69.4692406820139 ]\n"
   ]
  },
  {
   "cell_type": "code",
   "execution_count": 53,
   "metadata": {},
   "outputs": [],
   "source": [
    "# dropping the outlier in the distance column\n",
    "# bike_clean.drop(112038, inplace=True)"
   ]
  },
  {
   "cell_type": "markdown",
   "metadata": {},
   "source": [
    "### Question 9\n",
    "\n",
    "\n",
    "What is the relationship between the pair of categorical and numeric variables - \n",
    "> duration_sec & member_gender"
   ]
  },
  {
   "cell_type": "markdown",
   "metadata": {},
   "source": [
    "### Visualization"
   ]
  },
  {
   "cell_type": "code",
   "execution_count": 54,
   "metadata": {
    "scrolled": true
   },
   "outputs": [
    {
     "data": {
      "image/png": "[encoded data removed]",
      "text/plain": [
       "<Figure size 432x288 with 1 Axes>"
      ]
     },
     "metadata": {
      "needs_background": "light"
     },
     "output_type": "display_data"
    }
   ],
   "source": [
    "# Violin Plot for Duration and Gender\n",
    "base_color = sb.color_palette()[0]\n",
    "\n",
    "# The \"inner\" argument represents the datapoints in the violin interior. \n",
    "# It can take any value from {“box”, “quartile”, “point”, “stick”, None}\n",
    "# If \"box\", it draws a miniature boxplot. \n",
    "sb.violinplot(data=bike_clean, x='member_gender', y='duration_sec', color=base_color, inner=None);\n",
    "\n",
    "plt.title('Violin Plot for Duration and Gender');"
   ]
  },
  {
   "cell_type": "markdown",
   "metadata": {},
   "source": [
    "### Observation\n",
    "\n",
    "This is a non-monotonic relationship between duration and gender. However the distribution of male and female are more peak and wider than other. Both variables suggest the presence of outliers indicating greater time were covered by all gender\n",
    "\n",
    "\n",
    "\n",
    "\n",
    "### Question 10\n",
    "\n",
    "What is the relationship between Age and Gender"
   ]
  },
  {
   "cell_type": "markdown",
   "metadata": {},
   "source": [
    "### Visualization"
   ]
  },
  {
   "cell_type": "code",
   "execution_count": 55,
   "metadata": {},
   "outputs": [
    {
     "data": {
      "image/png": "[encoded data removed]",
      "text/plain": [
       "<Figure size 432x288 with 1 Axes>"
      ]
     },
     "metadata": {
      "needs_background": "light"
     },
     "output_type": "display_data"
    }
   ],
   "source": [
    "# Violin Plot for Duration and Gender\n",
    "base_color = sb.color_palette()[0]\n",
    "\n",
    "# The \"inner\" argument represents the datapoints in the violin interior. \n",
    "# It can take any value from {“box”, “quartile”, “point”, “stick”, None}\n",
    "# If \"box\", it draws a miniature boxplot. \n",
    "sb.violinplot(data=bike_clean, x='member_gender', y='age', color=base_color, inner=None);\n",
    "\n",
    "plt.title('Violin Plot for Age and Gender');"
   ]
  },
  {
   "cell_type": "markdown",
   "metadata": {},
   "source": [
    "### Observation\n",
    "\n",
    "Same non-monotonic relationship with the Females with who are of younger age compared with Male and Other genders. The other are older compared with the Males. The distribution of the female is more peak and the Male seem to have dual peaks\n",
    "\n",
    "\n",
    "### Question 11\n",
    "\n",
    "What is the relationship between gender and distance\n"
   ]
  },
  {
   "cell_type": "markdown",
   "metadata": {},
   "source": [
    "### Visualization"
   ]
  },
  {
   "cell_type": "code",
   "execution_count": 56,
   "metadata": {},
   "outputs": [
    {
     "data": {
      "image/png": "[encoded data removed]",
      "text/plain": [
       "<Figure size 432x288 with 1 Axes>"
      ]
     },
     "metadata": {
      "needs_background": "light"
     },
     "output_type": "display_data"
    }
   ],
   "source": [
    "# violin plot for distance and gender\n",
    "base_color = sb.color_palette()[0]\n",
    "\n",
    "# The \"inner\" argument represents the datapoints in the violin interior. \n",
    "# It can take any value from {“box”, “quartile”, “point”, “stick”, None}\n",
    "# If \"box\", it draws a miniature boxplot. \n",
    "sb.violinplot(data=bike_clean, x='member_gender', y='distance', color=base_color, inner=None);\n",
    "\n",
    "plt.title('Violin Plot for Distance and Gender');"
   ]
  },
  {
   "cell_type": "markdown",
   "metadata": {},
   "source": [
    "### Observation\n",
    "\n",
    "> From the plot the distribution of the male is more peak and the distances covered seem to be thesame aside ffrom the outliers in the females."
   ]
  },
  {
   "cell_type": "markdown",
   "metadata": {},
   "source": [
    "### Question 12\n",
    "\n",
    "> What is the relationship between distance and trip sharing"
   ]
  },
  {
   "cell_type": "markdown",
   "metadata": {},
   "source": [
    "### Visualization"
   ]
  },
  {
   "cell_type": "code",
   "execution_count": 57,
   "metadata": {},
   "outputs": [
    {
     "data": {
      "image/png": "[encoded data removed]",
      "text/plain": [
       "<Figure size 432x288 with 1 Axes>"
      ]
     },
     "metadata": {
      "needs_background": "light"
     },
     "output_type": "display_data"
    }
   ],
   "source": [
    "# violin plot for distance and bike sharing\n",
    "base_color = sb.color_palette()[0]\n",
    "\n",
    "# The \"inner\" argument represents the datapoints in the violin interior. \n",
    "# It can take any value from {“box”, “quartile”, “point”, “stick”, None}\n",
    "# If \"box\", it draws a miniature boxplot. \n",
    "sb.violinplot(data=bike_clean, x='bike_share_for_all_trip', y='distance', color=base_color, inner=None)\n",
    "\n",
    "plt.title('Violin Plot for Distance and Bike Sharing');"
   ]
  },
  {
   "cell_type": "markdown",
   "metadata": {},
   "source": [
    "### Observation\n",
    "\n",
    "> The distribution of those that shared their ride is more peak and we can infer that people who did not share their rides travelled far greater distances that the people who shared their ride. The long tail of No suggest outliers"
   ]
  },
  {
   "cell_type": "markdown",
   "metadata": {},
   "source": [
    "### Question 13\n",
    "\n",
    "What is the relationship between people who shared their rides and age"
   ]
  },
  {
   "cell_type": "markdown",
   "metadata": {},
   "source": [
    "### Visualization"
   ]
  },
  {
   "cell_type": "code",
   "execution_count": 58,
   "metadata": {
    "scrolled": true
   },
   "outputs": [
    {
     "data": {
      "image/png": "[encoded data removed]",
      "text/plain": [
       "<Figure size 432x288 with 1 Axes>"
      ]
     },
     "metadata": {
      "needs_background": "light"
     },
     "output_type": "display_data"
    }
   ],
   "source": [
    "# violin plot for age and bike sharing\n",
    "base_color = sb.color_palette()[0]\n",
    "\n",
    "# The \"inner\" argument represents the datapoints in the violin interior. \n",
    "# It can take any value from {“box”, “quartile”, “point”, “stick”, None}\n",
    "# If \"box\", it draws a miniature boxplot. \n",
    "sb.violinplot(data=bike_clean, x='bike_share_for_all_trip', y='age', color=base_color, inner=None);\n",
    "\n",
    "plt.title('Violin Plot for Age and Bike Sharing');"
   ]
  },
  {
   "cell_type": "markdown",
   "metadata": {},
   "source": [
    "### Observation\n",
    "\n",
    "The people who did not share their rides are younger compared with those who didn't. More so those those who didn't, are older with the peak of the distribution above the distribution of 'Yes'\n"
   ]
  },
  {
   "cell_type": "markdown",
   "metadata": {},
   "source": [
    "### Question 14\n",
    "\n",
    "What is the relationship between the distance and user type"
   ]
  },
  {
   "cell_type": "markdown",
   "metadata": {},
   "source": [
    "### Visualization"
   ]
  },
  {
   "cell_type": "code",
   "execution_count": 59,
   "metadata": {},
   "outputs": [
    {
     "data": {
      "image/png": "[encoded data removed]",
      "text/plain": [
       "<Figure size 432x288 with 1 Axes>"
      ]
     },
     "metadata": {
      "needs_background": "light"
     },
     "output_type": "display_data"
    }
   ],
   "source": [
    "# violin plo for distance and user type\n",
    "base_color = sb.color_palette()[0]\n",
    "\n",
    "# The \"inner\" argument represents the datapoints in the violin interior. \n",
    "# It can take any value from {“box”, “quartile”, “point”, “stick”, None}\n",
    "# If \"box\", it draws a miniature boxplot. \n",
    "sb.violinplot(data=bike_clean, x='user_type', y='distance', color=base_color, inner=None);\n",
    "\n",
    "plt.title('Violin Plot for Distance and User Type');"
   ]
  },
  {
   "cell_type": "markdown",
   "metadata": {},
   "source": [
    "### Observation \n",
    "\n",
    "Both subscribers and customers covered the same distance but subscriber see to have outliers more that customers\n",
    "\n",
    "\n",
    "### Question  15\n",
    "\n",
    "What is the relationship between age and user type\n",
    "\n",
    "\n",
    "\n",
    "### Visualization"
   ]
  },
  {
   "cell_type": "code",
   "execution_count": 60,
   "metadata": {},
   "outputs": [
    {
     "data": {
      "image/png": "[encoded data removed]",
      "text/plain": [
       "<Figure size 432x288 with 1 Axes>"
      ]
     },
     "metadata": {
      "needs_background": "light"
     },
     "output_type": "display_data"
    }
   ],
   "source": [
    "# violin plot for age and user type\n",
    "base_color = sb.color_palette()[0]\n",
    "\n",
    "# The \"inner\" argument represents the datapoints in the violin interior. \n",
    "# It can take any value from {“box”, “quartile”, “point”, “stick”, None}\n",
    "# If \"box\", it draws a miniature boxplot. \n",
    "sb.violinplot(data=bike_clean, x='user_type', y='age', color=base_color, inner=None);\n",
    "\n",
    "plt.title('Violin Plot for Age and User Type');"
   ]
  },
  {
   "cell_type": "markdown",
   "metadata": {},
   "source": [
    "### Observation\n",
    "\n",
    "The subscribers seem to be younger in age with dual peaks but this is not clear cut. The customer'long tail indicates the presence of outliers"
   ]
  },
  {
   "cell_type": "markdown",
   "metadata": {},
   "source": [
    "### Question 16\n",
    "\n",
    "What is the relationship between age and distance\n",
    "\n",
    "\n",
    "### Visualization"
   ]
  },
  {
   "cell_type": "code",
   "execution_count": 61,
   "metadata": {},
   "outputs": [
    {
     "data": {
      "image/png": "[encoded data removed]",
      "text/plain": [
       "<Figure size 432x288 with 1 Axes>"
      ]
     },
     "metadata": {
      "needs_background": "light"
     },
     "output_type": "display_data"
    }
   ],
   "source": [
    "# applying opaqueness to the data points. \n",
    "# The alpha take a value between [0-1], where 0 represents transparent, and 1 is opaque. \n",
    "sb.regplot(data =bike_clean, x = 'distance', y = 'age', truncate=False, x_jitter=0.2, scatter_kws={'alpha':1/25});\n"
   ]
  },
  {
   "cell_type": "markdown",
   "metadata": {},
   "source": [
    "### Observation\n",
    "\n",
    "The distance covered by the riders tend to decrease as age increases as we see more points at the lower left quandrant of the plot\n",
    "\n",
    "\n",
    "\n",
    "\n",
    "### Question 17\n",
    "\n",
    "What is the relationship between age and duration\n",
    "\n",
    "\n",
    "### Visualization"
   ]
  },
  {
   "cell_type": "code",
   "execution_count": 62,
   "metadata": {},
   "outputs": [
    {
     "data": {
      "image/png": "[encoded data removed]",
      "text/plain": [
       "<Figure size 432x288 with 1 Axes>"
      ]
     },
     "metadata": {
      "needs_background": "light"
     },
     "output_type": "display_data"
    }
   ],
   "source": [
    "# applying opaqueness to the data points. \n",
    "# The alpha take a value between [0-1], where 0 represents transparent, and 1 is opaque. \n",
    "sb.regplot(data =bike_clean, x = 'duration_sec', y = 'age', truncate=False, x_jitter=0.2, scatter_kws={'alpha':1/25});"
   ]
  },
  {
   "cell_type": "markdown",
   "metadata": {},
   "source": [
    "### Observation \n",
    "\n",
    "From the plot we can infer that younger riders spent more time in their riders comapared with aged riders. Duration reduces with increase in age"
   ]
  },
  {
   "cell_type": "code",
   "execution_count": 63,
   "metadata": {},
   "outputs": [
    {
     "data": {
      "text/html": [
       "<div>\n",
       "<style scoped>\n",
       "    .dataframe tbody tr th:only-of-type {\n",
       "        vertical-align: middle;\n",
       "    }\n",
       "\n",
       "    .dataframe tbody tr th {\n",
       "        vertical-align: top;\n",
       "    }\n",
       "\n",
       "    .dataframe thead th {\n",
       "        text-align: right;\n",
       "    }\n",
       "</style>\n",
       "<table border=\"1\" class=\"dataframe\">\n",
       "  <thead>\n",
       "    <tr style=\"text-align: right;\">\n",
       "      <th></th>\n",
       "      <th>duration_sec</th>\n",
       "      <th>start_time</th>\n",
       "      <th>end_time</th>\n",
       "      <th>start_station_id</th>\n",
       "      <th>start_station_name</th>\n",
       "      <th>end_station_id</th>\n",
       "      <th>end_station_name</th>\n",
       "      <th>bike_id</th>\n",
       "      <th>user_type</th>\n",
       "      <th>member_gender</th>\n",
       "      <th>bike_share_for_all_trip</th>\n",
       "      <th>age</th>\n",
       "      <th>distance</th>\n",
       "      <th>start_day</th>\n",
       "      <th>end_day</th>\n",
       "    </tr>\n",
       "  </thead>\n",
       "  <tbody>\n",
       "    <tr>\n",
       "      <th>0</th>\n",
       "      <td>52185</td>\n",
       "      <td>2019-02-28 17:32:10.145</td>\n",
       "      <td>2019-03-01 08:01:55.975</td>\n",
       "      <td>21.0</td>\n",
       "      <td>Montgomery St BART Station (Market St at 2nd St)</td>\n",
       "      <td>13.0</td>\n",
       "      <td>Commercial St at Montgomery St</td>\n",
       "      <td>4902</td>\n",
       "      <td>Customer</td>\n",
       "      <td>Male</td>\n",
       "      <td>No</td>\n",
       "      <td>38</td>\n",
       "      <td>0.544709</td>\n",
       "      <td>Thursday</td>\n",
       "      <td>Friday</td>\n",
       "    </tr>\n",
       "    <tr>\n",
       "      <th>2</th>\n",
       "      <td>61854</td>\n",
       "      <td>2019-02-28 12:13:13.218</td>\n",
       "      <td>2019-03-01 05:24:08.146</td>\n",
       "      <td>86.0</td>\n",
       "      <td>Market St at Dolores St</td>\n",
       "      <td>3.0</td>\n",
       "      <td>Powell St BART Station (Market St at 4th St)</td>\n",
       "      <td>5905</td>\n",
       "      <td>Customer</td>\n",
       "      <td>Male</td>\n",
       "      <td>No</td>\n",
       "      <td>50</td>\n",
       "      <td>2.704545</td>\n",
       "      <td>Thursday</td>\n",
       "      <td>Friday</td>\n",
       "    </tr>\n",
       "    <tr>\n",
       "      <th>3</th>\n",
       "      <td>36490</td>\n",
       "      <td>2019-02-28 17:54:26.010</td>\n",
       "      <td>2019-03-01 04:02:36.842</td>\n",
       "      <td>375.0</td>\n",
       "      <td>Grove St at Masonic Ave</td>\n",
       "      <td>70.0</td>\n",
       "      <td>Central Ave at Fell St</td>\n",
       "      <td>6638</td>\n",
       "      <td>Subscriber</td>\n",
       "      <td>Other</td>\n",
       "      <td>No</td>\n",
       "      <td>33</td>\n",
       "      <td>0.260739</td>\n",
       "      <td>Thursday</td>\n",
       "      <td>Friday</td>\n",
       "    </tr>\n",
       "  </tbody>\n",
       "</table>\n",
       "</div>"
      ],
      "text/plain": [
       "   duration_sec              start_time                end_time  \\\n",
       "0         52185 2019-02-28 17:32:10.145 2019-03-01 08:01:55.975   \n",
       "2         61854 2019-02-28 12:13:13.218 2019-03-01 05:24:08.146   \n",
       "3         36490 2019-02-28 17:54:26.010 2019-03-01 04:02:36.842   \n",
       "\n",
       "   start_station_id                                start_station_name  \\\n",
       "0              21.0  Montgomery St BART Station (Market St at 2nd St)   \n",
       "2              86.0                           Market St at Dolores St   \n",
       "3             375.0                           Grove St at Masonic Ave   \n",
       "\n",
       "   end_station_id                              end_station_name  bike_id  \\\n",
       "0            13.0                Commercial St at Montgomery St     4902   \n",
       "2             3.0  Powell St BART Station (Market St at 4th St)     5905   \n",
       "3            70.0                        Central Ave at Fell St     6638   \n",
       "\n",
       "    user_type member_gender bike_share_for_all_trip  age  distance start_day  \\\n",
       "0    Customer          Male                      No   38  0.544709  Thursday   \n",
       "2    Customer          Male                      No   50  2.704545  Thursday   \n",
       "3  Subscriber         Other                      No   33  0.260739  Thursday   \n",
       "\n",
       "  end_day  \n",
       "0  Friday  \n",
       "2  Friday  \n",
       "3  Friday  "
      ]
     },
     "execution_count": 63,
     "metadata": {},
     "output_type": "execute_result"
    }
   ],
   "source": [
    "bike_clean.head(3)"
   ]
  },
  {
   "cell_type": "markdown",
   "metadata": {},
   "source": [
    "### Question 18\n",
    "\n",
    "What is the relationship between gender and bike sharing\n",
    "\n",
    "\n",
    "### Visualization\n"
   ]
  },
  {
   "cell_type": "code",
   "execution_count": 64,
   "metadata": {},
   "outputs": [
    {
     "data": {
      "image/png": "[encoded data removed]",
      "text/plain": [
       "<Figure size 432x288 with 1 Axes>"
      ]
     },
     "metadata": {
      "needs_background": "light"
     },
     "output_type": "display_data"
    }
   ],
   "source": [
    "# count of the gender that shared their ride\n",
    "sb.countplot(data = bike_clean, x = 'member_gender', hue = 'bike_share_for_all_trip')\n",
    "\n",
    "\n",
    "plt.title('Count Plot of Gender and Bike Sharing');"
   ]
  },
  {
   "cell_type": "markdown",
   "metadata": {},
   "source": [
    "### Observation\n",
    "\n",
    "More riders did not share their riders and also males booked more rides in the period under review"
   ]
  },
  {
   "cell_type": "code",
   "execution_count": 65,
   "metadata": {},
   "outputs": [
    {
     "data": {
      "image/png": "[encoded data removed]",
      "text/plain": [
       "<Figure size 540x540 with 12 Axes>"
      ]
     },
     "metadata": {
      "needs_background": "light"
     },
     "output_type": "display_data"
    }
   ],
   "source": [
    "# seaborn pairplot\n",
    "g = sb.PairGrid(data =bike_clean, vars = ['duration_sec', 'age', 'distance'])\n",
    "g.map_diag(plt.hist)\n",
    "g.map_offdiag(plt.scatter)\n",
    "\n",
    "plt.xlabel('Columns')\n",
    "plt.ylabel('Number of Rows with Null Value')\n",
    "plt.title('Null Values');"
   ]
  },
  {
   "cell_type": "code",
   "execution_count": 66,
   "metadata": {},
   "outputs": [
    {
     "data": {
      "text/plain": [
       "<AxesSubplot:>"
      ]
     },
     "execution_count": 66,
     "metadata": {},
     "output_type": "execute_result"
    },
    {
     "data": {
      "image/png": "[encoded data removed]",
      "text/plain": [
       "<Figure size 432x288 with 2 Axes>"
      ]
     },
     "metadata": {
      "needs_background": "light"
     },
     "output_type": "display_data"
    }
   ],
   "source": [
    "# heat map of the dataset with correlation\n",
    "sb.heatmap(bike_clean.corr(), annot = True, fmt = '.2f', cmap = 'vlag_r', center = 0)"
   ]
  },
  {
   "cell_type": "markdown",
   "metadata": {},
   "source": [
    "### Talk about some of the relationships you observed in this part of the investigation. How did the feature(s) of interest vary with other features in the dataset?\n",
    "\n",
    "> The features of interest are duration_sec, user_type, member_gender, bike_share_for_all_trip, age and distance. Overall there isn't strong positive or negative relationship between the features of interest. However there was weak negative correlation between age and distance, age and duration and Age and ride sharing. Common with more distance and more duration are riders of younger age.\n",
    "\n",
    "### Did you observe any interesting relationships between the other features (not the main feature(s) of interest)?\n",
    "\n",
    "> Aside from the feture of interest other features did not quite show meaningful relationship"
   ]
  },
  {
   "cell_type": "markdown",
   "metadata": {},
   "source": [
    "## Multivariate Exploration"
   ]
  },
  {
   "cell_type": "markdown",
   "metadata": {},
   "source": [
    "### Question 19\n",
    "\n",
    "what is the relationship between the three  variables gender, duration and bike sharing\n",
    "\n",
    "\n",
    "### Visualization"
   ]
  },
  {
   "cell_type": "code",
   "execution_count": 67,
   "metadata": {},
   "outputs": [
    {
     "data": {
      "image/png": "[encoded data removed]",
      "text/plain": [
       "<Figure size 432x288 with 1 Axes>"
      ]
     },
     "metadata": {
      "needs_background": "light"
     },
     "output_type": "display_data"
    }
   ],
   "source": [
    "# Multivariate plot of gender, duration and bike sharing\n",
    "sb.barplot(x = 'member_gender', y = 'duration_sec', hue = 'bike_share_for_all_trip', data = bike_clean)\n",
    " \n",
    "# Show the plot\n",
    "#plt.show()\n",
    "\n",
    "plt.title('Multivariate Plot of Duration, Gender and Bike Sharing');"
   ]
  },
  {
   "cell_type": "markdown",
   "metadata": {},
   "source": [
    "### Observation\n",
    "Others spent more time in both sharing and non-shared rides in the period under review.\n",
    "\n",
    "### Question 20\n",
    "What is the relationship between the three  variables gender, duration and bike sharing?\n",
    "\n",
    "### Visualization"
   ]
  },
  {
   "cell_type": "code",
   "execution_count": 68,
   "metadata": {},
   "outputs": [
    {
     "data": {
      "image/png": "[encoded data removed]",
      "text/plain": [
       "<Figure size 432x288 with 1 Axes>"
      ]
     },
     "metadata": {
      "needs_background": "light"
     },
     "output_type": "display_data"
    }
   ],
   "source": [
    "# Multivariate plot of gender, duration and user type\n",
    "sb.barplot(x = 'member_gender', y = 'duration_sec', hue = 'user_type', data = bike_clean)\n",
    "\n",
    "plt.title('Multivariate Plot of Duration, Gender and User Type');"
   ]
  },
  {
   "cell_type": "markdown",
   "metadata": {},
   "source": [
    "### Observation\n",
    "Others comprising subscribers and customer spent more time compared with Males and females"
   ]
  },
  {
   "cell_type": "markdown",
   "metadata": {},
   "source": [
    "### Question 21\n",
    "\n",
    "What is the number of rider that ended same day or spilled over to another day"
   ]
  },
  {
   "cell_type": "code",
   "execution_count": 69,
   "metadata": {},
   "outputs": [
    {
     "data": {
      "text/plain": [
       "3458"
      ]
     },
     "execution_count": 69,
     "metadata": {},
     "output_type": "execute_result"
    }
   ],
   "source": [
    "# rides that started and ended at the same station\n",
    "len(bike_clean[bike_clean.start_station_id == bike_clean.end_station_id])\n"
   ]
  },
  {
   "cell_type": "code",
   "execution_count": 70,
   "metadata": {},
   "outputs": [
    {
     "data": {
      "text/html": [
       "<div>\n",
       "<style scoped>\n",
       "    .dataframe tbody tr th:only-of-type {\n",
       "        vertical-align: middle;\n",
       "    }\n",
       "\n",
       "    .dataframe tbody tr th {\n",
       "        vertical-align: top;\n",
       "    }\n",
       "\n",
       "    .dataframe thead th {\n",
       "        text-align: right;\n",
       "    }\n",
       "</style>\n",
       "<table border=\"1\" class=\"dataframe\">\n",
       "  <thead>\n",
       "    <tr style=\"text-align: right;\">\n",
       "      <th></th>\n",
       "      <th>duration_sec</th>\n",
       "      <th>start_time</th>\n",
       "      <th>end_time</th>\n",
       "      <th>start_station_id</th>\n",
       "      <th>start_station_name</th>\n",
       "      <th>end_station_id</th>\n",
       "      <th>end_station_name</th>\n",
       "      <th>bike_id</th>\n",
       "      <th>user_type</th>\n",
       "      <th>member_gender</th>\n",
       "      <th>bike_share_for_all_trip</th>\n",
       "      <th>age</th>\n",
       "      <th>distance</th>\n",
       "      <th>start_day</th>\n",
       "      <th>end_day</th>\n",
       "    </tr>\n",
       "  </thead>\n",
       "  <tbody>\n",
       "    <tr>\n",
       "      <th>19</th>\n",
       "      <td>874</td>\n",
       "      <td>2019-02-28 23:43:05.183</td>\n",
       "      <td>2019-02-28 23:57:39.796</td>\n",
       "      <td>180.0</td>\n",
       "      <td>Telegraph Ave at 23rd St</td>\n",
       "      <td>180.0</td>\n",
       "      <td>Telegraph Ave at 23rd St</td>\n",
       "      <td>5629</td>\n",
       "      <td>Customer</td>\n",
       "      <td>Male</td>\n",
       "      <td>No</td>\n",
       "      <td>44</td>\n",
       "      <td>0.0</td>\n",
       "      <td>Thursday</td>\n",
       "      <td>Thursday</td>\n",
       "    </tr>\n",
       "    <tr>\n",
       "      <th>27</th>\n",
       "      <td>408</td>\n",
       "      <td>2019-02-28 23:48:08.282</td>\n",
       "      <td>2019-02-28 23:54:56.930</td>\n",
       "      <td>78.0</td>\n",
       "      <td>Folsom St at 9th St</td>\n",
       "      <td>78.0</td>\n",
       "      <td>Folsom St at 9th St</td>\n",
       "      <td>5410</td>\n",
       "      <td>Subscriber</td>\n",
       "      <td>Male</td>\n",
       "      <td>No</td>\n",
       "      <td>40</td>\n",
       "      <td>0.0</td>\n",
       "      <td>Thursday</td>\n",
       "      <td>Thursday</td>\n",
       "    </tr>\n",
       "    <tr>\n",
       "      <th>34</th>\n",
       "      <td>471</td>\n",
       "      <td>2019-02-28 23:42:43.361</td>\n",
       "      <td>2019-02-28 23:50:34.446</td>\n",
       "      <td>133.0</td>\n",
       "      <td>Valencia St at 22nd St</td>\n",
       "      <td>133.0</td>\n",
       "      <td>Valencia St at 22nd St</td>\n",
       "      <td>5559</td>\n",
       "      <td>Subscriber</td>\n",
       "      <td>Male</td>\n",
       "      <td>No</td>\n",
       "      <td>30</td>\n",
       "      <td>0.0</td>\n",
       "      <td>Thursday</td>\n",
       "      <td>Thursday</td>\n",
       "    </tr>\n",
       "    <tr>\n",
       "      <th>55</th>\n",
       "      <td>3478</td>\n",
       "      <td>2019-02-28 22:39:35.020</td>\n",
       "      <td>2019-02-28 23:37:33.342</td>\n",
       "      <td>11.0</td>\n",
       "      <td>Davis St at Jackson St</td>\n",
       "      <td>11.0</td>\n",
       "      <td>Davis St at Jackson St</td>\n",
       "      <td>1846</td>\n",
       "      <td>Subscriber</td>\n",
       "      <td>Male</td>\n",
       "      <td>No</td>\n",
       "      <td>27</td>\n",
       "      <td>0.0</td>\n",
       "      <td>Thursday</td>\n",
       "      <td>Thursday</td>\n",
       "    </tr>\n",
       "    <tr>\n",
       "      <th>56</th>\n",
       "      <td>3140</td>\n",
       "      <td>2019-02-28 22:44:53.503</td>\n",
       "      <td>2019-02-28 23:37:14.090</td>\n",
       "      <td>11.0</td>\n",
       "      <td>Davis St at Jackson St</td>\n",
       "      <td>11.0</td>\n",
       "      <td>Davis St at Jackson St</td>\n",
       "      <td>3040</td>\n",
       "      <td>Subscriber</td>\n",
       "      <td>Female</td>\n",
       "      <td>No</td>\n",
       "      <td>39</td>\n",
       "      <td>0.0</td>\n",
       "      <td>Thursday</td>\n",
       "      <td>Thursday</td>\n",
       "    </tr>\n",
       "    <tr>\n",
       "      <th>...</th>\n",
       "      <td>...</td>\n",
       "      <td>...</td>\n",
       "      <td>...</td>\n",
       "      <td>...</td>\n",
       "      <td>...</td>\n",
       "      <td>...</td>\n",
       "      <td>...</td>\n",
       "      <td>...</td>\n",
       "      <td>...</td>\n",
       "      <td>...</td>\n",
       "      <td>...</td>\n",
       "      <td>...</td>\n",
       "      <td>...</td>\n",
       "      <td>...</td>\n",
       "      <td>...</td>\n",
       "    </tr>\n",
       "    <tr>\n",
       "      <th>183317</th>\n",
       "      <td>1476</td>\n",
       "      <td>2019-02-01 02:45:04.744</td>\n",
       "      <td>2019-02-01 03:09:41.184</td>\n",
       "      <td>345.0</td>\n",
       "      <td>Hubbell St at 16th St</td>\n",
       "      <td>345.0</td>\n",
       "      <td>Hubbell St at 16th St</td>\n",
       "      <td>5224</td>\n",
       "      <td>Subscriber</td>\n",
       "      <td>Male</td>\n",
       "      <td>No</td>\n",
       "      <td>55</td>\n",
       "      <td>0.0</td>\n",
       "      <td>Friday</td>\n",
       "      <td>Friday</td>\n",
       "    </tr>\n",
       "    <tr>\n",
       "      <th>183318</th>\n",
       "      <td>877</td>\n",
       "      <td>2019-02-01 02:53:15.995</td>\n",
       "      <td>2019-02-01 03:07:53.058</td>\n",
       "      <td>385.0</td>\n",
       "      <td>Woolsey St at Sacramento St</td>\n",
       "      <td>385.0</td>\n",
       "      <td>Woolsey St at Sacramento St</td>\n",
       "      <td>4913</td>\n",
       "      <td>Subscriber</td>\n",
       "      <td>Male</td>\n",
       "      <td>No</td>\n",
       "      <td>35</td>\n",
       "      <td>0.0</td>\n",
       "      <td>Friday</td>\n",
       "      <td>Friday</td>\n",
       "    </tr>\n",
       "    <tr>\n",
       "      <th>183326</th>\n",
       "      <td>5713</td>\n",
       "      <td>2019-02-01 01:02:55.168</td>\n",
       "      <td>2019-02-01 02:38:09.002</td>\n",
       "      <td>31.0</td>\n",
       "      <td>Raymond Kimbell Playground</td>\n",
       "      <td>31.0</td>\n",
       "      <td>Raymond Kimbell Playground</td>\n",
       "      <td>5366</td>\n",
       "      <td>Subscriber</td>\n",
       "      <td>Male</td>\n",
       "      <td>No</td>\n",
       "      <td>50</td>\n",
       "      <td>0.0</td>\n",
       "      <td>Friday</td>\n",
       "      <td>Friday</td>\n",
       "    </tr>\n",
       "    <tr>\n",
       "      <th>183350</th>\n",
       "      <td>874</td>\n",
       "      <td>2019-02-01 01:41:43.414</td>\n",
       "      <td>2019-02-01 01:56:17.552</td>\n",
       "      <td>253.0</td>\n",
       "      <td>Haste St at College Ave</td>\n",
       "      <td>253.0</td>\n",
       "      <td>Haste St at College Ave</td>\n",
       "      <td>3232</td>\n",
       "      <td>Subscriber</td>\n",
       "      <td>Male</td>\n",
       "      <td>Yes</td>\n",
       "      <td>27</td>\n",
       "      <td>0.0</td>\n",
       "      <td>Friday</td>\n",
       "      <td>Friday</td>\n",
       "    </tr>\n",
       "    <tr>\n",
       "      <th>183380</th>\n",
       "      <td>943</td>\n",
       "      <td>2019-02-01 00:43:11.550</td>\n",
       "      <td>2019-02-01 00:58:55.217</td>\n",
       "      <td>31.0</td>\n",
       "      <td>Raymond Kimbell Playground</td>\n",
       "      <td>31.0</td>\n",
       "      <td>Raymond Kimbell Playground</td>\n",
       "      <td>5343</td>\n",
       "      <td>Subscriber</td>\n",
       "      <td>Male</td>\n",
       "      <td>No</td>\n",
       "      <td>50</td>\n",
       "      <td>0.0</td>\n",
       "      <td>Friday</td>\n",
       "      <td>Friday</td>\n",
       "    </tr>\n",
       "  </tbody>\n",
       "</table>\n",
       "<p>3458 rows × 15 columns</p>\n",
       "</div>"
      ],
      "text/plain": [
       "        duration_sec              start_time                end_time  \\\n",
       "19               874 2019-02-28 23:43:05.183 2019-02-28 23:57:39.796   \n",
       "27               408 2019-02-28 23:48:08.282 2019-02-28 23:54:56.930   \n",
       "34               471 2019-02-28 23:42:43.361 2019-02-28 23:50:34.446   \n",
       "55              3478 2019-02-28 22:39:35.020 2019-02-28 23:37:33.342   \n",
       "56              3140 2019-02-28 22:44:53.503 2019-02-28 23:37:14.090   \n",
       "...              ...                     ...                     ...   \n",
       "183317          1476 2019-02-01 02:45:04.744 2019-02-01 03:09:41.184   \n",
       "183318           877 2019-02-01 02:53:15.995 2019-02-01 03:07:53.058   \n",
       "183326          5713 2019-02-01 01:02:55.168 2019-02-01 02:38:09.002   \n",
       "183350           874 2019-02-01 01:41:43.414 2019-02-01 01:56:17.552   \n",
       "183380           943 2019-02-01 00:43:11.550 2019-02-01 00:58:55.217   \n",
       "\n",
       "        start_station_id           start_station_name  end_station_id  \\\n",
       "19                 180.0     Telegraph Ave at 23rd St           180.0   \n",
       "27                  78.0          Folsom St at 9th St            78.0   \n",
       "34                 133.0       Valencia St at 22nd St           133.0   \n",
       "55                  11.0       Davis St at Jackson St            11.0   \n",
       "56                  11.0       Davis St at Jackson St            11.0   \n",
       "...                  ...                          ...             ...   \n",
       "183317             345.0        Hubbell St at 16th St           345.0   \n",
       "183318             385.0  Woolsey St at Sacramento St           385.0   \n",
       "183326              31.0   Raymond Kimbell Playground            31.0   \n",
       "183350             253.0      Haste St at College Ave           253.0   \n",
       "183380              31.0   Raymond Kimbell Playground            31.0   \n",
       "\n",
       "                   end_station_name  bike_id   user_type member_gender  \\\n",
       "19         Telegraph Ave at 23rd St     5629    Customer          Male   \n",
       "27              Folsom St at 9th St     5410  Subscriber          Male   \n",
       "34           Valencia St at 22nd St     5559  Subscriber          Male   \n",
       "55           Davis St at Jackson St     1846  Subscriber          Male   \n",
       "56           Davis St at Jackson St     3040  Subscriber        Female   \n",
       "...                             ...      ...         ...           ...   \n",
       "183317        Hubbell St at 16th St     5224  Subscriber          Male   \n",
       "183318  Woolsey St at Sacramento St     4913  Subscriber          Male   \n",
       "183326   Raymond Kimbell Playground     5366  Subscriber          Male   \n",
       "183350      Haste St at College Ave     3232  Subscriber          Male   \n",
       "183380   Raymond Kimbell Playground     5343  Subscriber          Male   \n",
       "\n",
       "       bike_share_for_all_trip  age  distance start_day   end_day  \n",
       "19                          No   44       0.0  Thursday  Thursday  \n",
       "27                          No   40       0.0  Thursday  Thursday  \n",
       "34                          No   30       0.0  Thursday  Thursday  \n",
       "55                          No   27       0.0  Thursday  Thursday  \n",
       "56                          No   39       0.0  Thursday  Thursday  \n",
       "...                        ...  ...       ...       ...       ...  \n",
       "183317                      No   55       0.0    Friday    Friday  \n",
       "183318                      No   35       0.0    Friday    Friday  \n",
       "183326                      No   50       0.0    Friday    Friday  \n",
       "183350                     Yes   27       0.0    Friday    Friday  \n",
       "183380                      No   50       0.0    Friday    Friday  \n",
       "\n",
       "[3458 rows x 15 columns]"
      ]
     },
     "execution_count": 70,
     "metadata": {},
     "output_type": "execute_result"
    }
   ],
   "source": [
    "# rides that started and ended at the same station\n",
    "bike_clean[bike_clean.start_station_id == bike_clean.end_station_id]"
   ]
  },
  {
   "cell_type": "code",
   "execution_count": 71,
   "metadata": {},
   "outputs": [
    {
     "data": {
      "text/plain": [
       "171493"
      ]
     },
     "execution_count": 71,
     "metadata": {},
     "output_type": "execute_result"
    }
   ],
   "source": [
    "# rides that started and ended at different station\n",
    "len(bike_clean[bike_clean.start_station_id != bike_clean.end_station_id])"
   ]
  },
  {
   "cell_type": "code",
   "execution_count": 72,
   "metadata": {},
   "outputs": [
    {
     "data": {
      "text/html": [
       "<div>\n",
       "<style scoped>\n",
       "    .dataframe tbody tr th:only-of-type {\n",
       "        vertical-align: middle;\n",
       "    }\n",
       "\n",
       "    .dataframe tbody tr th {\n",
       "        vertical-align: top;\n",
       "    }\n",
       "\n",
       "    .dataframe thead th {\n",
       "        text-align: right;\n",
       "    }\n",
       "</style>\n",
       "<table border=\"1\" class=\"dataframe\">\n",
       "  <thead>\n",
       "    <tr style=\"text-align: right;\">\n",
       "      <th></th>\n",
       "      <th>duration_sec</th>\n",
       "      <th>start_time</th>\n",
       "      <th>end_time</th>\n",
       "      <th>start_station_id</th>\n",
       "      <th>start_station_name</th>\n",
       "      <th>end_station_id</th>\n",
       "      <th>end_station_name</th>\n",
       "      <th>bike_id</th>\n",
       "      <th>user_type</th>\n",
       "      <th>member_gender</th>\n",
       "      <th>bike_share_for_all_trip</th>\n",
       "      <th>age</th>\n",
       "      <th>distance</th>\n",
       "      <th>start_day</th>\n",
       "      <th>end_day</th>\n",
       "    </tr>\n",
       "  </thead>\n",
       "  <tbody>\n",
       "    <tr>\n",
       "      <th>0</th>\n",
       "      <td>52185</td>\n",
       "      <td>2019-02-28 17:32:10.145</td>\n",
       "      <td>2019-03-01 08:01:55.975</td>\n",
       "      <td>21.0</td>\n",
       "      <td>Montgomery St BART Station (Market St at 2nd St)</td>\n",
       "      <td>13.0</td>\n",
       "      <td>Commercial St at Montgomery St</td>\n",
       "      <td>4902</td>\n",
       "      <td>Customer</td>\n",
       "      <td>Male</td>\n",
       "      <td>No</td>\n",
       "      <td>38</td>\n",
       "      <td>0.544709</td>\n",
       "      <td>Thursday</td>\n",
       "      <td>Friday</td>\n",
       "    </tr>\n",
       "    <tr>\n",
       "      <th>2</th>\n",
       "      <td>61854</td>\n",
       "      <td>2019-02-28 12:13:13.218</td>\n",
       "      <td>2019-03-01 05:24:08.146</td>\n",
       "      <td>86.0</td>\n",
       "      <td>Market St at Dolores St</td>\n",
       "      <td>3.0</td>\n",
       "      <td>Powell St BART Station (Market St at 4th St)</td>\n",
       "      <td>5905</td>\n",
       "      <td>Customer</td>\n",
       "      <td>Male</td>\n",
       "      <td>No</td>\n",
       "      <td>50</td>\n",
       "      <td>2.704545</td>\n",
       "      <td>Thursday</td>\n",
       "      <td>Friday</td>\n",
       "    </tr>\n",
       "    <tr>\n",
       "      <th>3</th>\n",
       "      <td>36490</td>\n",
       "      <td>2019-02-28 17:54:26.010</td>\n",
       "      <td>2019-03-01 04:02:36.842</td>\n",
       "      <td>375.0</td>\n",
       "      <td>Grove St at Masonic Ave</td>\n",
       "      <td>70.0</td>\n",
       "      <td>Central Ave at Fell St</td>\n",
       "      <td>6638</td>\n",
       "      <td>Subscriber</td>\n",
       "      <td>Other</td>\n",
       "      <td>No</td>\n",
       "      <td>33</td>\n",
       "      <td>0.260739</td>\n",
       "      <td>Thursday</td>\n",
       "      <td>Friday</td>\n",
       "    </tr>\n",
       "    <tr>\n",
       "      <th>4</th>\n",
       "      <td>1585</td>\n",
       "      <td>2019-02-28 23:54:18.549</td>\n",
       "      <td>2019-03-01 00:20:44.074</td>\n",
       "      <td>7.0</td>\n",
       "      <td>Frank H Ogawa Plaza</td>\n",
       "      <td>222.0</td>\n",
       "      <td>10th Ave at E 15th St</td>\n",
       "      <td>4898</td>\n",
       "      <td>Subscriber</td>\n",
       "      <td>Male</td>\n",
       "      <td>Yes</td>\n",
       "      <td>48</td>\n",
       "      <td>2.409301</td>\n",
       "      <td>Thursday</td>\n",
       "      <td>Friday</td>\n",
       "    </tr>\n",
       "    <tr>\n",
       "      <th>5</th>\n",
       "      <td>1793</td>\n",
       "      <td>2019-02-28 23:49:58.632</td>\n",
       "      <td>2019-03-01 00:19:51.760</td>\n",
       "      <td>93.0</td>\n",
       "      <td>4th St at Mission Bay Blvd S</td>\n",
       "      <td>323.0</td>\n",
       "      <td>Broadway at Kearny</td>\n",
       "      <td>5200</td>\n",
       "      <td>Subscriber</td>\n",
       "      <td>Male</td>\n",
       "      <td>No</td>\n",
       "      <td>63</td>\n",
       "      <td>3.332203</td>\n",
       "      <td>Thursday</td>\n",
       "      <td>Friday</td>\n",
       "    </tr>\n",
       "    <tr>\n",
       "      <th>...</th>\n",
       "      <td>...</td>\n",
       "      <td>...</td>\n",
       "      <td>...</td>\n",
       "      <td>...</td>\n",
       "      <td>...</td>\n",
       "      <td>...</td>\n",
       "      <td>...</td>\n",
       "      <td>...</td>\n",
       "      <td>...</td>\n",
       "      <td>...</td>\n",
       "      <td>...</td>\n",
       "      <td>...</td>\n",
       "      <td>...</td>\n",
       "      <td>...</td>\n",
       "      <td>...</td>\n",
       "    </tr>\n",
       "    <tr>\n",
       "      <th>183407</th>\n",
       "      <td>480</td>\n",
       "      <td>2019-02-01 00:04:49.724</td>\n",
       "      <td>2019-02-01 00:12:50.034</td>\n",
       "      <td>27.0</td>\n",
       "      <td>Beale St at Harrison St</td>\n",
       "      <td>324.0</td>\n",
       "      <td>Union Square (Powell St at Post St)</td>\n",
       "      <td>4832</td>\n",
       "      <td>Subscriber</td>\n",
       "      <td>Male</td>\n",
       "      <td>No</td>\n",
       "      <td>26</td>\n",
       "      <td>1.464766</td>\n",
       "      <td>Friday</td>\n",
       "      <td>Friday</td>\n",
       "    </tr>\n",
       "    <tr>\n",
       "      <th>183408</th>\n",
       "      <td>313</td>\n",
       "      <td>2019-02-01 00:05:34.744</td>\n",
       "      <td>2019-02-01 00:10:48.502</td>\n",
       "      <td>21.0</td>\n",
       "      <td>Montgomery St BART Station (Market St at 2nd St)</td>\n",
       "      <td>66.0</td>\n",
       "      <td>3rd St at Townsend St</td>\n",
       "      <td>4960</td>\n",
       "      <td>Subscriber</td>\n",
       "      <td>Male</td>\n",
       "      <td>No</td>\n",
       "      <td>38</td>\n",
       "      <td>1.402716</td>\n",
       "      <td>Friday</td>\n",
       "      <td>Friday</td>\n",
       "    </tr>\n",
       "    <tr>\n",
       "      <th>183409</th>\n",
       "      <td>141</td>\n",
       "      <td>2019-02-01 00:06:05.549</td>\n",
       "      <td>2019-02-01 00:08:27.220</td>\n",
       "      <td>278.0</td>\n",
       "      <td>The Alameda at Bush St</td>\n",
       "      <td>277.0</td>\n",
       "      <td>Morrison Ave at Julian St</td>\n",
       "      <td>3824</td>\n",
       "      <td>Subscriber</td>\n",
       "      <td>Male</td>\n",
       "      <td>Yes</td>\n",
       "      <td>32</td>\n",
       "      <td>0.379066</td>\n",
       "      <td>Friday</td>\n",
       "      <td>Friday</td>\n",
       "    </tr>\n",
       "    <tr>\n",
       "      <th>183410</th>\n",
       "      <td>139</td>\n",
       "      <td>2019-02-01 00:05:34.360</td>\n",
       "      <td>2019-02-01 00:07:54.287</td>\n",
       "      <td>220.0</td>\n",
       "      <td>San Pablo Ave at MLK Jr Way</td>\n",
       "      <td>216.0</td>\n",
       "      <td>San Pablo Ave at 27th St</td>\n",
       "      <td>5095</td>\n",
       "      <td>Subscriber</td>\n",
       "      <td>Male</td>\n",
       "      <td>No</td>\n",
       "      <td>34</td>\n",
       "      <td>0.747282</td>\n",
       "      <td>Friday</td>\n",
       "      <td>Friday</td>\n",
       "    </tr>\n",
       "    <tr>\n",
       "      <th>183411</th>\n",
       "      <td>271</td>\n",
       "      <td>2019-02-01 00:00:20.636</td>\n",
       "      <td>2019-02-01 00:04:52.058</td>\n",
       "      <td>24.0</td>\n",
       "      <td>Spear St at Folsom St</td>\n",
       "      <td>37.0</td>\n",
       "      <td>2nd St at Folsom St</td>\n",
       "      <td>1057</td>\n",
       "      <td>Subscriber</td>\n",
       "      <td>Male</td>\n",
       "      <td>No</td>\n",
       "      <td>33</td>\n",
       "      <td>0.710395</td>\n",
       "      <td>Friday</td>\n",
       "      <td>Friday</td>\n",
       "    </tr>\n",
       "  </tbody>\n",
       "</table>\n",
       "<p>171493 rows × 15 columns</p>\n",
       "</div>"
      ],
      "text/plain": [
       "        duration_sec              start_time                end_time  \\\n",
       "0              52185 2019-02-28 17:32:10.145 2019-03-01 08:01:55.975   \n",
       "2              61854 2019-02-28 12:13:13.218 2019-03-01 05:24:08.146   \n",
       "3              36490 2019-02-28 17:54:26.010 2019-03-01 04:02:36.842   \n",
       "4               1585 2019-02-28 23:54:18.549 2019-03-01 00:20:44.074   \n",
       "5               1793 2019-02-28 23:49:58.632 2019-03-01 00:19:51.760   \n",
       "...              ...                     ...                     ...   \n",
       "183407           480 2019-02-01 00:04:49.724 2019-02-01 00:12:50.034   \n",
       "183408           313 2019-02-01 00:05:34.744 2019-02-01 00:10:48.502   \n",
       "183409           141 2019-02-01 00:06:05.549 2019-02-01 00:08:27.220   \n",
       "183410           139 2019-02-01 00:05:34.360 2019-02-01 00:07:54.287   \n",
       "183411           271 2019-02-01 00:00:20.636 2019-02-01 00:04:52.058   \n",
       "\n",
       "        start_station_id                                start_station_name  \\\n",
       "0                   21.0  Montgomery St BART Station (Market St at 2nd St)   \n",
       "2                   86.0                           Market St at Dolores St   \n",
       "3                  375.0                           Grove St at Masonic Ave   \n",
       "4                    7.0                               Frank H Ogawa Plaza   \n",
       "5                   93.0                      4th St at Mission Bay Blvd S   \n",
       "...                  ...                                               ...   \n",
       "183407              27.0                           Beale St at Harrison St   \n",
       "183408              21.0  Montgomery St BART Station (Market St at 2nd St)   \n",
       "183409             278.0                            The Alameda at Bush St   \n",
       "183410             220.0                       San Pablo Ave at MLK Jr Way   \n",
       "183411              24.0                             Spear St at Folsom St   \n",
       "\n",
       "        end_station_id                              end_station_name  bike_id  \\\n",
       "0                 13.0                Commercial St at Montgomery St     4902   \n",
       "2                  3.0  Powell St BART Station (Market St at 4th St)     5905   \n",
       "3                 70.0                        Central Ave at Fell St     6638   \n",
       "4                222.0                         10th Ave at E 15th St     4898   \n",
       "5                323.0                            Broadway at Kearny     5200   \n",
       "...                ...                                           ...      ...   \n",
       "183407           324.0           Union Square (Powell St at Post St)     4832   \n",
       "183408            66.0                         3rd St at Townsend St     4960   \n",
       "183409           277.0                     Morrison Ave at Julian St     3824   \n",
       "183410           216.0                      San Pablo Ave at 27th St     5095   \n",
       "183411            37.0                           2nd St at Folsom St     1057   \n",
       "\n",
       "         user_type member_gender bike_share_for_all_trip  age  distance  \\\n",
       "0         Customer          Male                      No   38  0.544709   \n",
       "2         Customer          Male                      No   50  2.704545   \n",
       "3       Subscriber         Other                      No   33  0.260739   \n",
       "4       Subscriber          Male                     Yes   48  2.409301   \n",
       "5       Subscriber          Male                      No   63  3.332203   \n",
       "...            ...           ...                     ...  ...       ...   \n",
       "183407  Subscriber          Male                      No   26  1.464766   \n",
       "183408  Subscriber          Male                      No   38  1.402716   \n",
       "183409  Subscriber          Male                     Yes   32  0.379066   \n",
       "183410  Subscriber          Male                      No   34  0.747282   \n",
       "183411  Subscriber          Male                      No   33  0.710395   \n",
       "\n",
       "       start_day end_day  \n",
       "0       Thursday  Friday  \n",
       "2       Thursday  Friday  \n",
       "3       Thursday  Friday  \n",
       "4       Thursday  Friday  \n",
       "5       Thursday  Friday  \n",
       "...          ...     ...  \n",
       "183407    Friday  Friday  \n",
       "183408    Friday  Friday  \n",
       "183409    Friday  Friday  \n",
       "183410    Friday  Friday  \n",
       "183411    Friday  Friday  \n",
       "\n",
       "[171493 rows x 15 columns]"
      ]
     },
     "execution_count": 72,
     "metadata": {},
     "output_type": "execute_result"
    }
   ],
   "source": [
    "# rides that started and ended at different station\n",
    "bike_clean[bike_clean.start_station_id != bike_clean.end_station_id]"
   ]
  },
  {
   "cell_type": "code",
   "execution_count": 73,
   "metadata": {},
   "outputs": [
    {
     "data": {
      "text/html": [
       "<div>\n",
       "<style scoped>\n",
       "    .dataframe tbody tr th:only-of-type {\n",
       "        vertical-align: middle;\n",
       "    }\n",
       "\n",
       "    .dataframe tbody tr th {\n",
       "        vertical-align: top;\n",
       "    }\n",
       "\n",
       "    .dataframe thead th {\n",
       "        text-align: right;\n",
       "    }\n",
       "</style>\n",
       "<table border=\"1\" class=\"dataframe\">\n",
       "  <thead>\n",
       "    <tr style=\"text-align: right;\">\n",
       "      <th></th>\n",
       "      <th>duration_sec</th>\n",
       "      <th>start_time</th>\n",
       "      <th>end_time</th>\n",
       "      <th>start_station_id</th>\n",
       "      <th>start_station_name</th>\n",
       "      <th>end_station_id</th>\n",
       "      <th>end_station_name</th>\n",
       "      <th>bike_id</th>\n",
       "      <th>user_type</th>\n",
       "      <th>member_gender</th>\n",
       "      <th>bike_share_for_all_trip</th>\n",
       "      <th>age</th>\n",
       "      <th>distance</th>\n",
       "      <th>start_day</th>\n",
       "      <th>end_day</th>\n",
       "    </tr>\n",
       "  </thead>\n",
       "  <tbody>\n",
       "    <tr>\n",
       "      <th>0</th>\n",
       "      <td>156</td>\n",
       "      <td>2019-02-27 18:37:00.140</td>\n",
       "      <td>2019-02-27 18:39:36.193</td>\n",
       "      <td>30.0</td>\n",
       "      <td>San Francisco Caltrain (Townsend St at 4th St)</td>\n",
       "      <td>50.0</td>\n",
       "      <td>2nd St at Townsend St</td>\n",
       "      <td>2440</td>\n",
       "      <td>Subscriber</td>\n",
       "      <td>Male</td>\n",
       "      <td>No</td>\n",
       "      <td>34</td>\n",
       "      <td>0.619201</td>\n",
       "      <td>Wednesday</td>\n",
       "      <td>Wednesday</td>\n",
       "    </tr>\n",
       "    <tr>\n",
       "      <th>1</th>\n",
       "      <td>163</td>\n",
       "      <td>2019-02-21 08:20:42.516</td>\n",
       "      <td>2019-02-21 08:23:26.018</td>\n",
       "      <td>385.0</td>\n",
       "      <td>Woolsey St at Sacramento St</td>\n",
       "      <td>241.0</td>\n",
       "      <td>Ashby BART Station</td>\n",
       "      <td>4536</td>\n",
       "      <td>Subscriber</td>\n",
       "      <td>Male</td>\n",
       "      <td>No</td>\n",
       "      <td>49</td>\n",
       "      <td>0.730272</td>\n",
       "      <td>Thursday</td>\n",
       "      <td>Thursday</td>\n",
       "    </tr>\n",
       "    <tr>\n",
       "      <th>2</th>\n",
       "      <td>393</td>\n",
       "      <td>2019-02-11 20:24:21.912</td>\n",
       "      <td>2019-02-11 20:30:55.521</td>\n",
       "      <td>240.0</td>\n",
       "      <td>Haste St at Telegraph Ave</td>\n",
       "      <td>249.0</td>\n",
       "      <td>Russell St at College Ave</td>\n",
       "      <td>1007</td>\n",
       "      <td>Subscriber</td>\n",
       "      <td>Male</td>\n",
       "      <td>No</td>\n",
       "      <td>25</td>\n",
       "      <td>0.972639</td>\n",
       "      <td>Monday</td>\n",
       "      <td>Monday</td>\n",
       "    </tr>\n",
       "    <tr>\n",
       "      <th>3</th>\n",
       "      <td>246</td>\n",
       "      <td>2019-02-22 15:17:34.042</td>\n",
       "      <td>2019-02-22 15:21:40.385</td>\n",
       "      <td>350.0</td>\n",
       "      <td>8th St at Brannan St</td>\n",
       "      <td>67.0</td>\n",
       "      <td>San Francisco Caltrain Station 2  (Townsend St...</td>\n",
       "      <td>6144</td>\n",
       "      <td>Subscriber</td>\n",
       "      <td>Male</td>\n",
       "      <td>No</td>\n",
       "      <td>41</td>\n",
       "      <td>1.071735</td>\n",
       "      <td>Friday</td>\n",
       "      <td>Friday</td>\n",
       "    </tr>\n",
       "    <tr>\n",
       "      <th>4</th>\n",
       "      <td>413</td>\n",
       "      <td>2019-02-01 16:39:39.979</td>\n",
       "      <td>2019-02-01 16:46:33.251</td>\n",
       "      <td>60.0</td>\n",
       "      <td>8th St at Ringold St</td>\n",
       "      <td>114.0</td>\n",
       "      <td>Rhode Island St at 17th St</td>\n",
       "      <td>2147</td>\n",
       "      <td>Subscriber</td>\n",
       "      <td>Male</td>\n",
       "      <td>No</td>\n",
       "      <td>39</td>\n",
       "      <td>1.269839</td>\n",
       "      <td>Friday</td>\n",
       "      <td>Friday</td>\n",
       "    </tr>\n",
       "    <tr>\n",
       "      <th>...</th>\n",
       "      <td>...</td>\n",
       "      <td>...</td>\n",
       "      <td>...</td>\n",
       "      <td>...</td>\n",
       "      <td>...</td>\n",
       "      <td>...</td>\n",
       "      <td>...</td>\n",
       "      <td>...</td>\n",
       "      <td>...</td>\n",
       "      <td>...</td>\n",
       "      <td>...</td>\n",
       "      <td>...</td>\n",
       "      <td>...</td>\n",
       "      <td>...</td>\n",
       "      <td>...</td>\n",
       "    </tr>\n",
       "    <tr>\n",
       "      <th>3494</th>\n",
       "      <td>356</td>\n",
       "      <td>2019-02-11 09:26:20.663</td>\n",
       "      <td>2019-02-11 09:32:16.825</td>\n",
       "      <td>25.0</td>\n",
       "      <td>Howard St at 2nd St</td>\n",
       "      <td>44.0</td>\n",
       "      <td>Civic Center/UN Plaza BART Station (Market St ...</td>\n",
       "      <td>5539</td>\n",
       "      <td>Subscriber</td>\n",
       "      <td>Male</td>\n",
       "      <td>No</td>\n",
       "      <td>36</td>\n",
       "      <td>1.449377</td>\n",
       "      <td>Monday</td>\n",
       "      <td>Monday</td>\n",
       "    </tr>\n",
       "    <tr>\n",
       "      <th>3495</th>\n",
       "      <td>1216</td>\n",
       "      <td>2019-02-08 10:32:03.898</td>\n",
       "      <td>2019-02-08 10:52:20.107</td>\n",
       "      <td>75.0</td>\n",
       "      <td>Market St at Franklin St</td>\n",
       "      <td>23.0</td>\n",
       "      <td>The Embarcadero at Steuart St</td>\n",
       "      <td>5271</td>\n",
       "      <td>Subscriber</td>\n",
       "      <td>Female</td>\n",
       "      <td>No</td>\n",
       "      <td>30</td>\n",
       "      <td>3.302586</td>\n",
       "      <td>Friday</td>\n",
       "      <td>Friday</td>\n",
       "    </tr>\n",
       "    <tr>\n",
       "      <th>3496</th>\n",
       "      <td>498</td>\n",
       "      <td>2019-02-01 09:25:49.648</td>\n",
       "      <td>2019-02-01 09:34:08.006</td>\n",
       "      <td>23.0</td>\n",
       "      <td>The Embarcadero at Steuart St</td>\n",
       "      <td>364.0</td>\n",
       "      <td>China Basin St at 3rd St</td>\n",
       "      <td>5537</td>\n",
       "      <td>Customer</td>\n",
       "      <td>Male</td>\n",
       "      <td>No</td>\n",
       "      <td>28</td>\n",
       "      <td>2.166362</td>\n",
       "      <td>Friday</td>\n",
       "      <td>Friday</td>\n",
       "    </tr>\n",
       "    <tr>\n",
       "      <th>3497</th>\n",
       "      <td>77</td>\n",
       "      <td>2019-02-01 06:59:02.948</td>\n",
       "      <td>2019-02-01 07:00:20.230</td>\n",
       "      <td>182.0</td>\n",
       "      <td>19th Street BART Station</td>\n",
       "      <td>337.0</td>\n",
       "      <td>Webster St at 19th St</td>\n",
       "      <td>4596</td>\n",
       "      <td>Subscriber</td>\n",
       "      <td>Male</td>\n",
       "      <td>No</td>\n",
       "      <td>58</td>\n",
       "      <td>0.269894</td>\n",
       "      <td>Friday</td>\n",
       "      <td>Friday</td>\n",
       "    </tr>\n",
       "    <tr>\n",
       "      <th>3498</th>\n",
       "      <td>1094</td>\n",
       "      <td>2019-02-19 07:04:15.991</td>\n",
       "      <td>2019-02-19 07:22:30.062</td>\n",
       "      <td>368.0</td>\n",
       "      <td>Myrtle St at Polk St</td>\n",
       "      <td>5.0</td>\n",
       "      <td>Powell St BART Station (Market St at 5th St)</td>\n",
       "      <td>5283</td>\n",
       "      <td>Subscriber</td>\n",
       "      <td>Male</td>\n",
       "      <td>Yes</td>\n",
       "      <td>54</td>\n",
       "      <td>0.996918</td>\n",
       "      <td>Tuesday</td>\n",
       "      <td>Tuesday</td>\n",
       "    </tr>\n",
       "  </tbody>\n",
       "</table>\n",
       "<p>3499 rows × 15 columns</p>\n",
       "</div>"
      ],
      "text/plain": [
       "      duration_sec              start_time                end_time  \\\n",
       "0              156 2019-02-27 18:37:00.140 2019-02-27 18:39:36.193   \n",
       "1              163 2019-02-21 08:20:42.516 2019-02-21 08:23:26.018   \n",
       "2              393 2019-02-11 20:24:21.912 2019-02-11 20:30:55.521   \n",
       "3              246 2019-02-22 15:17:34.042 2019-02-22 15:21:40.385   \n",
       "4              413 2019-02-01 16:39:39.979 2019-02-01 16:46:33.251   \n",
       "...            ...                     ...                     ...   \n",
       "3494           356 2019-02-11 09:26:20.663 2019-02-11 09:32:16.825   \n",
       "3495          1216 2019-02-08 10:32:03.898 2019-02-08 10:52:20.107   \n",
       "3496           498 2019-02-01 09:25:49.648 2019-02-01 09:34:08.006   \n",
       "3497            77 2019-02-01 06:59:02.948 2019-02-01 07:00:20.230   \n",
       "3498          1094 2019-02-19 07:04:15.991 2019-02-19 07:22:30.062   \n",
       "\n",
       "      start_station_id                              start_station_name  \\\n",
       "0                 30.0  San Francisco Caltrain (Townsend St at 4th St)   \n",
       "1                385.0                     Woolsey St at Sacramento St   \n",
       "2                240.0                       Haste St at Telegraph Ave   \n",
       "3                350.0                            8th St at Brannan St   \n",
       "4                 60.0                            8th St at Ringold St   \n",
       "...                ...                                             ...   \n",
       "3494              25.0                             Howard St at 2nd St   \n",
       "3495              75.0                        Market St at Franklin St   \n",
       "3496              23.0                   The Embarcadero at Steuart St   \n",
       "3497             182.0                        19th Street BART Station   \n",
       "3498             368.0                            Myrtle St at Polk St   \n",
       "\n",
       "      end_station_id                                   end_station_name  \\\n",
       "0               50.0                              2nd St at Townsend St   \n",
       "1              241.0                                 Ashby BART Station   \n",
       "2              249.0                          Russell St at College Ave   \n",
       "3               67.0  San Francisco Caltrain Station 2  (Townsend St...   \n",
       "4              114.0                         Rhode Island St at 17th St   \n",
       "...              ...                                                ...   \n",
       "3494            44.0  Civic Center/UN Plaza BART Station (Market St ...   \n",
       "3495            23.0                      The Embarcadero at Steuart St   \n",
       "3496           364.0                           China Basin St at 3rd St   \n",
       "3497           337.0                              Webster St at 19th St   \n",
       "3498             5.0       Powell St BART Station (Market St at 5th St)   \n",
       "\n",
       "      bike_id   user_type member_gender bike_share_for_all_trip  age  \\\n",
       "0        2440  Subscriber          Male                      No   34   \n",
       "1        4536  Subscriber          Male                      No   49   \n",
       "2        1007  Subscriber          Male                      No   25   \n",
       "3        6144  Subscriber          Male                      No   41   \n",
       "4        2147  Subscriber          Male                      No   39   \n",
       "...       ...         ...           ...                     ...  ...   \n",
       "3494     5539  Subscriber          Male                      No   36   \n",
       "3495     5271  Subscriber        Female                      No   30   \n",
       "3496     5537    Customer          Male                      No   28   \n",
       "3497     4596  Subscriber          Male                      No   58   \n",
       "3498     5283  Subscriber          Male                     Yes   54   \n",
       "\n",
       "      distance  start_day    end_day  \n",
       "0     0.619201  Wednesday  Wednesday  \n",
       "1     0.730272   Thursday   Thursday  \n",
       "2     0.972639     Monday     Monday  \n",
       "3     1.071735     Friday     Friday  \n",
       "4     1.269839     Friday     Friday  \n",
       "...        ...        ...        ...  \n",
       "3494  1.449377     Monday     Monday  \n",
       "3495  3.302586     Friday     Friday  \n",
       "3496  2.166362     Friday     Friday  \n",
       "3497  0.269894     Friday     Friday  \n",
       "3498  0.996918    Tuesday    Tuesday  \n",
       "\n",
       "[3499 rows x 15 columns]"
      ]
     },
     "execution_count": 73,
     "metadata": {},
     "output_type": "execute_result"
    }
   ],
   "source": [
    "# generating a subset from the dataset for further analysis\n",
    "bike_clean_subset = bike_clean.sample(frac=0.02, random_state=2).reset_index(drop=True)\n",
    "bike_clean_subset"
   ]
  },
  {
   "cell_type": "markdown",
   "metadata": {},
   "source": [
    "### Observation\n",
    "3458 rides ended at the same start location while 171494 rider ended at a diiferent location from the start point \n",
    "\n",
    "\n",
    "### Question 22\n",
    "What is the relationship between duration age and distance\n",
    "\n",
    "\n",
    "### Visualization"
   ]
  },
  {
   "cell_type": "code",
   "execution_count": 74,
   "metadata": {},
   "outputs": [
    {
     "data": {
      "image/png": "[encoded data removed]",
      "text/plain": [
       "<Figure size 432x288 with 1 Axes>"
      ]
     },
     "metadata": {
      "needs_background": "light"
     },
     "output_type": "display_data"
    }
   ],
   "source": [
    "#continuous or numeric data we can use size as marker using 's'\n",
    "\n",
    "\n",
    "bike_clean_subset = bike_clean.sample(frac=0.1, random_state=1).reset_index(drop=True)\n",
    "\n",
    "sb.regplot(data = bike_clean_subset, x= 'duration_sec', y = 'age', x_jitter = 0.04, fit_reg = False, scatter_kws={'alpha':1/25})\n",
    "\n",
    "sizes = [1, 6, 11]\n",
    "base_color = sb.color_palette()[0]\n",
    "legend_obj = []\n",
    "for s in sizes:\n",
    "    legend_obj.append(plt.scatter([],[],s = s, color = base_color))\n",
    "    plt.legend(legend_obj, sizes, title= 'Distance')\n",
    "    plt.title('Multivariate Plot of Age, Distance & Duration ')\n",
    "    \n",
    "    "
   ]
  },
  {
   "cell_type": "markdown",
   "metadata": {},
   "source": [
    "### Observation\n",
    "\n",
    "We can see that young adults are doing greater duration and distance. Both duration and distance reduces as age increases"
   ]
  },
  {
   "cell_type": "markdown",
   "metadata": {},
   "source": [
    "### Talk about some of the relationships you observed in this part of the investigation. Were there features that strengthened each other in terms of looking at your feature(s) of interest?\n",
    "\n",
    "> The multivariate plot shows that younger riders are ultilizes the bike sharing service more \n",
    "\n",
    "### Were there any interesting or surprising interactions between features?\n",
    "\n",
    "> Others in gender seem to share more rides in the multivariate bar plot\n"
   ]
  },
  {
   "cell_type": "markdown",
   "metadata": {},
   "source": [
    "## Conclusions\n",
    "> In conclusion we can see youths and young adults embarked on longer trips as well as duration. Majority of them are male and they are subscribers\n"
   ]
  },
  {
   "cell_type": "markdown",
   "metadata": {},
   "source": [
    "References: Google, geeksforgeeks, stackoverflow, kaggle and codegrepper"
   ]
  },
  {
   "cell_type": "code",
   "execution_count": null,
   "metadata": {},
   "outputs": [],
   "source": []
  }
 ],
 "metadata": {
  "kernelspec": {
   "display_name": "Python 3 (ipykernel)",
   "language": "python",
   "name": "python3"
  },
  "language_info": {
   "codemirror_mode": {
    "name": "ipython",
    "version": 3
   },
   "file_extension": ".py",
   "mimetype": "text/x-python",
   "name": "python",
   "nbconvert_exporter": "python",
   "pygments_lexer": "ipython3",
   "version": "3.9.7"
  }
 },
 "nbformat": 4,
 "nbformat_minor": 2
}
